{
 "cells": [
  {
   "cell_type": "code",
   "execution_count": 1,
   "metadata": {},
   "outputs": [
    {
     "name": "stdout",
     "output_type": "stream",
     "text": [
      "/media/Z/NDT/Transformer_Tabular\n"
     ]
    }
   ],
   "source": [
    "%cd .."
   ]
  },
  {
   "cell_type": "code",
   "execution_count": 2,
   "metadata": {},
   "outputs": [
    {
     "name": "stderr",
     "output_type": "stream",
     "text": [
      "2023-01-25 09:38:05.792396: I tensorflow/core/platform/cpu_feature_guard.cc:193] This TensorFlow binary is optimized with oneAPI Deep Neural Network Library (oneDNN) to use the following CPU instructions in performance-critical operations:  AVX2 AVX512F AVX512_VNNI FMA\n",
      "To enable them in other operations, rebuild TensorFlow with the appropriate compiler flags.\n",
      "2023-01-25 09:38:05.893318: I tensorflow/core/util/port.cc:104] oneDNN custom operations are on. You may see slightly different numerical results due to floating-point round-off errors from different computation orders. To turn them off, set the environment variable `TF_ENABLE_ONEDNN_OPTS=0`.\n",
      "2023-01-25 09:38:05.896853: W tensorflow/compiler/xla/stream_executor/platform/default/dso_loader.cc:64] Could not load dynamic library 'libcudart.so.11.0'; dlerror: libcudart.so.11.0: cannot open shared object file: No such file or directory; LD_LIBRARY_PATH: /usr/local/cuda-11.6/lib64:\n",
      "2023-01-25 09:38:05.896869: I tensorflow/compiler/xla/stream_executor/cuda/cudart_stub.cc:29] Ignore above cudart dlerror if you do not have a GPU set up on your machine.\n",
      "2023-01-25 09:38:06.377627: W tensorflow/compiler/xla/stream_executor/platform/default/dso_loader.cc:64] Could not load dynamic library 'libnvinfer.so.7'; dlerror: libnvinfer.so.7: cannot open shared object file: No such file or directory; LD_LIBRARY_PATH: /usr/local/cuda-11.6/lib64:\n",
      "2023-01-25 09:38:06.377999: W tensorflow/compiler/xla/stream_executor/platform/default/dso_loader.cc:64] Could not load dynamic library 'libnvinfer_plugin.so.7'; dlerror: libnvinfer_plugin.so.7: cannot open shared object file: No such file or directory; LD_LIBRARY_PATH: /usr/local/cuda-11.6/lib64:\n",
      "2023-01-25 09:38:06.378006: W tensorflow/compiler/tf2tensorrt/utils/py_utils.cc:38] TF-TRT Warning: Cannot dlopen some TensorRT libraries. If you would like to use Nvidia GPU with TensorRT, please make sure the missing libraries mentioned above are installed properly.\n"
     ]
    }
   ],
   "source": [
    "import warnings\n",
    "warnings.filterwarnings('ignore')\n",
    "from FTTransformer.model import FT_Transformer\n",
    "from configs import *\n",
    "import pandas as pd\n",
    "from yaml.loader import SafeLoader\n",
    "import typing\n",
    "import yaml\n",
    "import numpy as np\n",
    "import matplotlib.pyplot as plt\n",
    "import pickle"
   ]
  },
  {
   "cell_type": "code",
   "execution_count": null,
   "metadata": {},
   "outputs": [],
   "source": [
    "def load_config(path: str) -> typing.Dict:\n",
    "    with open(path, \"r\") as f:\n",
    "        config = yaml.load(f, Loader=SafeLoader)\n",
    "    return config\n",
    "\n",
    "# Utility function\n",
    "def get_model_importances(importances, title=\"Importances\"):\n",
    "    imps_sorted = importances.mean().sort_values(ascending=False)\n",
    "    \n",
    "    plt.figure(figsize=(15,7))\n",
    "    ax = imps_sorted.plot.bar()\n",
    "    for p in ax.patches:\n",
    "        ax.annotate(str(np.round(p.get_height(), 4)), (p.get_x(), p.get_height() * 1.01))\n",
    "    plt.title(title)\n",
    "    plt.show()\n",
    "    \n",
    "    return imps_sorted"
   ]
  },
  {
   "cell_type": "code",
   "execution_count": null,
   "metadata": {},
   "outputs": [],
   "source": [
    "with open('artifact/history/periodic_fft_transform_1674655286.1900282.pkl', 'rb') as f:\n",
    "    history_periodic = pickle.load(f)\n",
    "with open('artifact/history/ple_fft_transform_1674655667.5672317.pkl', 'rb') as f:\n",
    "    history_ple = pickle.load(f)\n",
    "with open('artifact/history/plet_fft_transform_1674656121.836691.pkl', 'rb') as f:\n",
    "    history_plet = pickle.load(f)\n",
    "with open('artifact/history/linear_fft_transform_1674641988.5785031.pkl', 'rb') as f:\n",
    "    history_linear = pickle.load(f)\n",
    "with open('artifact/history/tabtransform_1674052283.4792285.pkl', 'rb') as f:\n",
    "    history_tabtransformer = pickle.load(f)"
   ]
  },
  {
   "cell_type": "code",
   "execution_count": null,
   "metadata": {},
   "outputs": [],
   "source": [
    "fig, ax = plt.subplots(nrows=1, ncols=2)\n",
    "\n",
    "ax[0].plot(history['loss'], label='Training Loss')\n",
    "ax[0].plot(history['val_loss'], label='Validation Loss')\n",
    "ax[0].legend()\n",
    "\n",
    "ax[1].plot(history['output_PR AUC'], label='Training PR AUC')\n",
    "ax[1].plot(history['val_output_PR AUC'], label='Validation PR AUC')\n",
    "ax[1].legend()\n",
    "\n",
    "plt.show()\n"
   ]
  }
 ],
 "metadata": {
  "kernelspec": {
   "display_name": "ndt98",
   "language": "python",
   "name": "python3"
  },
  "language_info": {
   "codemirror_mode": {
    "name": "ipython",
    "version": 3
   },
   "file_extension": ".py",
   "mimetype": "text/x-python",
   "name": "python",
   "nbconvert_exporter": "python",
   "pygments_lexer": "ipython3",
   "version": "3.8.10"
  },
  "orig_nbformat": 4,
  "vscode": {
   "interpreter": {
    "hash": "d9527af22cb6c08264d8618fd63c59f3bb6de63220d210e4091e844c258321a9"
   }
  }
 },
 "nbformat": 4,
 "nbformat_minor": 2
}

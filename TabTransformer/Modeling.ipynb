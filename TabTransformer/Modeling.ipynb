{
 "cells": [
  {
   "cell_type": "code",
   "execution_count": 1,
   "metadata": {},
   "outputs": [
    {
     "name": "stderr",
     "output_type": "stream",
     "text": [
      "2023-01-14 09:46:20.155204: I tensorflow/core/platform/cpu_feature_guard.cc:193] This TensorFlow binary is optimized with oneAPI Deep Neural Network Library (oneDNN) to use the following CPU instructions in performance-critical operations:  AVX2 AVX512F AVX512_VNNI FMA\n",
      "To enable them in other operations, rebuild TensorFlow with the appropriate compiler flags.\n",
      "2023-01-14 09:46:20.294455: I tensorflow/core/util/port.cc:104] oneDNN custom operations are on. You may see slightly different numerical results due to floating-point round-off errors from different computation orders. To turn them off, set the environment variable `TF_ENABLE_ONEDNN_OPTS=0`.\n",
      "2023-01-14 09:46:20.299121: W tensorflow/compiler/xla/stream_executor/platform/default/dso_loader.cc:64] Could not load dynamic library 'libcudart.so.11.0'; dlerror: libcudart.so.11.0: cannot open shared object file: No such file or directory; LD_LIBRARY_PATH: /usr/local/cuda-11.6/lib64:\n",
      "2023-01-14 09:46:20.299134: I tensorflow/compiler/xla/stream_executor/cuda/cudart_stub.cc:29] Ignore above cudart dlerror if you do not have a GPU set up on your machine.\n",
      "2023-01-14 09:46:20.850218: W tensorflow/compiler/xla/stream_executor/platform/default/dso_loader.cc:64] Could not load dynamic library 'libnvinfer.so.7'; dlerror: libnvinfer.so.7: cannot open shared object file: No such file or directory; LD_LIBRARY_PATH: /usr/local/cuda-11.6/lib64:\n",
      "2023-01-14 09:46:20.850579: W tensorflow/compiler/xla/stream_executor/platform/default/dso_loader.cc:64] Could not load dynamic library 'libnvinfer_plugin.so.7'; dlerror: libnvinfer_plugin.so.7: cannot open shared object file: No such file or directory; LD_LIBRARY_PATH: /usr/local/cuda-11.6/lib64:\n",
      "2023-01-14 09:46:20.850585: W tensorflow/compiler/tf2tensorrt/utils/py_utils.cc:38] TF-TRT Warning: Cannot dlopen some TensorRT libraries. If you would like to use Nvidia GPU with TensorRT, please make sure the missing libraries mentioned above are installed properly.\n"
     ]
    }
   ],
   "source": [
    "from tabtransformertf.models.tabtransformer import TabTransformer\n",
    "from tabtransformertf.utils.preprocessing import df_to_dataset, build_categorical_prep"
   ]
  },
  {
   "cell_type": "code",
   "execution_count": 2,
   "metadata": {},
   "outputs": [],
   "source": [
    "import pandas as pd"
   ]
  },
  {
   "cell_type": "code",
   "execution_count": 3,
   "metadata": {},
   "outputs": [],
   "source": [
    "X_train= pd.read_csv('/media/Z/NDT/Transformer_Tabular/dataset/train.csv')\n",
    "X_val=pd.read_csv('/media/Z/NDT/Transformer_Tabular/dataset/val.csv')\n",
    "test_data=pd.read_csv('/media/Z/NDT/Transformer_Tabular/dataset/test.csv')"
   ]
  },
  {
   "cell_type": "code",
   "execution_count": 4,
   "metadata": {},
   "outputs": [],
   "source": [
    "CATEGORICAL_FEATURES=['workclass', 'education', 'marital_status', 'occupation',\n",
    "       'relationship', 'race', 'gender', 'native_country']\n",
    "NUMERIC_FEATURES=['age', 'fnlwgt', 'education_num', 'capital_gain', 'capital_loss',\n",
    "       'hours_per_week']\n",
    "LABEL = 'income_bracket'"
   ]
  },
  {
   "cell_type": "code",
   "execution_count": 5,
   "metadata": {},
   "outputs": [
    {
     "name": "stderr",
     "output_type": "stream",
     "text": [
      "  0%|          | 0/8 [00:00<?, ?it/s]2023-01-14 09:46:23.507208: W tensorflow/compiler/xla/stream_executor/platform/default/dso_loader.cc:64] Could not load dynamic library 'libcudart.so.11.0'; dlerror: libcudart.so.11.0: cannot open shared object file: No such file or directory; LD_LIBRARY_PATH: /usr/local/cuda-11.6/lib64:\n",
      "2023-01-14 09:46:23.507869: W tensorflow/compiler/xla/stream_executor/platform/default/dso_loader.cc:64] Could not load dynamic library 'libcublas.so.11'; dlerror: libcublas.so.11: cannot open shared object file: No such file or directory; LD_LIBRARY_PATH: /usr/local/cuda-11.6/lib64:\n",
      "2023-01-14 09:46:23.508352: W tensorflow/compiler/xla/stream_executor/platform/default/dso_loader.cc:64] Could not load dynamic library 'libcublasLt.so.11'; dlerror: libcublasLt.so.11: cannot open shared object file: No such file or directory; LD_LIBRARY_PATH: /usr/local/cuda-11.6/lib64:\n",
      "2023-01-14 09:46:23.508796: W tensorflow/compiler/xla/stream_executor/platform/default/dso_loader.cc:64] Could not load dynamic library 'libcufft.so.10'; dlerror: libcufft.so.10: cannot open shared object file: No such file or directory; LD_LIBRARY_PATH: /usr/local/cuda-11.6/lib64:\n",
      "2023-01-14 09:46:23.509321: W tensorflow/compiler/xla/stream_executor/platform/default/dso_loader.cc:64] Could not load dynamic library 'libcurand.so.10'; dlerror: libcurand.so.10: cannot open shared object file: No such file or directory; LD_LIBRARY_PATH: /usr/local/cuda-11.6/lib64:\n",
      "2023-01-14 09:46:23.509765: W tensorflow/compiler/xla/stream_executor/platform/default/dso_loader.cc:64] Could not load dynamic library 'libcusolver.so.11'; dlerror: libcusolver.so.11: cannot open shared object file: No such file or directory; LD_LIBRARY_PATH: /usr/local/cuda-11.6/lib64:\n",
      "2023-01-14 09:46:23.510176: W tensorflow/compiler/xla/stream_executor/platform/default/dso_loader.cc:64] Could not load dynamic library 'libcusparse.so.11'; dlerror: libcusparse.so.11: cannot open shared object file: No such file or directory; LD_LIBRARY_PATH: /usr/local/cuda-11.6/lib64:\n",
      "2023-01-14 09:46:23.510563: W tensorflow/compiler/xla/stream_executor/platform/default/dso_loader.cc:64] Could not load dynamic library 'libcudnn.so.8'; dlerror: libcudnn.so.8: cannot open shared object file: No such file or directory; LD_LIBRARY_PATH: /usr/local/cuda-11.6/lib64:\n",
      "2023-01-14 09:46:23.510587: W tensorflow/core/common_runtime/gpu/gpu_device.cc:1934] Cannot dlopen some GPU libraries. Please make sure the missing libraries mentioned above are installed properly if you would like to use GPU. Follow the guide at https://www.tensorflow.org/install/gpu for how to download and setup the required libraries for your platform.\n",
      "Skipping registering GPU devices...\n",
      "2023-01-14 09:46:23.511203: I tensorflow/core/platform/cpu_feature_guard.cc:193] This TensorFlow binary is optimized with oneAPI Deep Neural Network Library (oneDNN) to use the following CPU instructions in performance-critical operations:  AVX2 AVX512F AVX512_VNNI FMA\n",
      "To enable them in other operations, rebuild TensorFlow with the appropriate compiler flags.\n",
      "100%|██████████| 8/8 [00:00<00:00, 72.79it/s]\n"
     ]
    }
   ],
   "source": [
    "# Category preprocessing layers\n",
    "category_prep_layers = build_categorical_prep(X_train, CATEGORICAL_FEATURES)"
   ]
  },
  {
   "cell_type": "code",
   "execution_count": 6,
   "metadata": {},
   "outputs": [],
   "source": [
    "FEATURES = CATEGORICAL_FEATURES + NUMERIC_FEATURES"
   ]
  },
  {
   "cell_type": "code",
   "execution_count": 7,
   "metadata": {},
   "outputs": [
    {
     "name": "stderr",
     "output_type": "stream",
     "text": [
      "/home/administrator/.virtualenvs/ndt98/lib/python3.8/site-packages/tabtransformertf/utils/preprocessing.py:21: FutureWarning: Support for multi-dimensional indexing (e.g. `obj[:, None]`) is deprecated and will be removed in a future version.  Convert to a numpy array before indexing instead.\n",
      "  dataset[key] = value[:, tf.newaxis]\n",
      "/home/administrator/.virtualenvs/ndt98/lib/python3.8/site-packages/tabtransformertf/utils/preprocessing.py:27: FutureWarning: Support for multi-dimensional indexing (e.g. `obj[:, None]`) is deprecated and will be removed in a future version.  Convert to a numpy array before indexing instead.\n",
      "  dataset[key] = value[:, tf.newaxis]\n"
     ]
    }
   ],
   "source": [
    "# To TF Dataset\n",
    "train_dataset = df_to_dataset(X_train[FEATURES + [LABEL]], LABEL)\n",
    "val_dataset = df_to_dataset(X_val[FEATURES + [LABEL]], LABEL, shuffle=False)  # No shuffle\n",
    "test_dataset = df_to_dataset(test_data[FEATURES + [LABEL]], shuffle=False) # No target, no shuffle"
   ]
  },
  {
   "cell_type": "code",
   "execution_count": 8,
   "metadata": {},
   "outputs": [],
   "source": [
    "tabtransformer = TabTransformer(\n",
    "    numerical_features = NUMERIC_FEATURES,\n",
    "    categorical_features = CATEGORICAL_FEATURES,\n",
    "    categorical_lookup=category_prep_layers,\n",
    "    embedding_dim=32,\n",
    "    out_dim=1,\n",
    "    out_activation='sigmoid',\n",
    "    depth=4,\n",
    "    heads=8,\n",
    "    attn_dropout=0.2,\n",
    "    ff_dropout=0.2,\n",
    "    mlp_hidden_factors=[2, 4],\n",
    "    use_column_embedding=True,\n",
    ")"
   ]
  },
  {
   "cell_type": "code",
   "execution_count": 9,
   "metadata": {},
   "outputs": [],
   "source": [
    "import tensorflow as tf\n",
    "import tensorflow_addons as tfa"
   ]
  },
  {
   "cell_type": "code",
   "execution_count": 10,
   "metadata": {},
   "outputs": [],
   "source": [
    "LEARNING_RATE = 0.0001\n",
    "WEIGHT_DECAY = 0.0001\n",
    "NUM_EPOCHS = 1000\n",
    "\n",
    "optimizer = tfa.optimizers.AdamW(\n",
    "        learning_rate=LEARNING_RATE, weight_decay=WEIGHT_DECAY\n",
    "    )\n",
    "\n",
    "tabtransformer.compile(\n",
    "    optimizer = optimizer,\n",
    "    loss = tf.keras.losses.BinaryCrossentropy(),\n",
    "    metrics= [tf.keras.metrics.AUC(name=\"PR AUC\", curve='PR')],\n",
    ")"
   ]
  },
  {
   "cell_type": "code",
   "execution_count": 11,
   "metadata": {},
   "outputs": [],
   "source": [
    "from tensorflow.keras.callbacks import EarlyStopping"
   ]
  },
  {
   "cell_type": "code",
   "execution_count": 12,
   "metadata": {},
   "outputs": [
    {
     "name": "stdout",
     "output_type": "stream",
     "text": [
      "Epoch 1/1000\n",
      "51/51 [==============================] - 12s 134ms/step - loss: 0.7687 - PR AUC: 0.4415 - val_loss: 0.6561 - val_PR AUC: 0.6140\n",
      "Epoch 2/1000\n",
      "51/51 [==============================] - 6s 122ms/step - loss: 0.6022 - PR AUC: 0.5393 - val_loss: 0.4649 - val_PR AUC: 0.6440\n",
      "Epoch 3/1000\n",
      "51/51 [==============================] - 6s 124ms/step - loss: 0.5214 - PR AUC: 0.5826 - val_loss: 0.4262 - val_PR AUC: 0.6588\n",
      "Epoch 4/1000\n",
      "51/51 [==============================] - 6s 120ms/step - loss: 0.4800 - PR AUC: 0.6048 - val_loss: 0.3870 - val_PR AUC: 0.6669\n",
      "Epoch 5/1000\n",
      "51/51 [==============================] - 6s 120ms/step - loss: 0.4438 - PR AUC: 0.6278 - val_loss: 0.3788 - val_PR AUC: 0.6734\n",
      "Epoch 6/1000\n",
      "51/51 [==============================] - 6s 120ms/step - loss: 0.4265 - PR AUC: 0.6374 - val_loss: 0.3752 - val_PR AUC: 0.6786\n",
      "Epoch 7/1000\n",
      "51/51 [==============================] - 6s 124ms/step - loss: 0.4182 - PR AUC: 0.6479 - val_loss: 0.3695 - val_PR AUC: 0.6835\n",
      "Epoch 8/1000\n",
      "51/51 [==============================] - 6s 118ms/step - loss: 0.4118 - PR AUC: 0.6483 - val_loss: 0.3643 - val_PR AUC: 0.6917\n",
      "Epoch 9/1000\n",
      "51/51 [==============================] - 6s 121ms/step - loss: 0.4015 - PR AUC: 0.6592 - val_loss: 0.3631 - val_PR AUC: 0.6999\n",
      "Epoch 10/1000\n",
      "51/51 [==============================] - 6s 114ms/step - loss: 0.3946 - PR AUC: 0.6672 - val_loss: 0.3605 - val_PR AUC: 0.7052\n",
      "Epoch 11/1000\n",
      "51/51 [==============================] - 6s 120ms/step - loss: 0.3906 - PR AUC: 0.6714 - val_loss: 0.3556 - val_PR AUC: 0.7100\n",
      "Epoch 12/1000\n",
      "51/51 [==============================] - 6s 118ms/step - loss: 0.3900 - PR AUC: 0.6717 - val_loss: 0.3538 - val_PR AUC: 0.7124\n",
      "Epoch 13/1000\n",
      "51/51 [==============================] - 6s 120ms/step - loss: 0.3867 - PR AUC: 0.6761 - val_loss: 0.3557 - val_PR AUC: 0.7169\n",
      "Epoch 14/1000\n",
      "51/51 [==============================] - 6s 109ms/step - loss: 0.3809 - PR AUC: 0.6808 - val_loss: 0.3499 - val_PR AUC: 0.7188\n",
      "Epoch 15/1000\n",
      "51/51 [==============================] - 6s 124ms/step - loss: 0.3810 - PR AUC: 0.6837 - val_loss: 0.3495 - val_PR AUC: 0.7210\n",
      "Epoch 16/1000\n",
      "51/51 [==============================] - 6s 121ms/step - loss: 0.3769 - PR AUC: 0.6857 - val_loss: 0.3483 - val_PR AUC: 0.7218\n",
      "Epoch 17/1000\n",
      "51/51 [==============================] - 6s 120ms/step - loss: 0.3725 - PR AUC: 0.6899 - val_loss: 0.3486 - val_PR AUC: 0.7211\n",
      "Epoch 18/1000\n",
      "51/51 [==============================] - 6s 119ms/step - loss: 0.3707 - PR AUC: 0.6938 - val_loss: 0.3460 - val_PR AUC: 0.7233\n",
      "Epoch 19/1000\n",
      "51/51 [==============================] - 6s 120ms/step - loss: 0.3709 - PR AUC: 0.6966 - val_loss: 0.3464 - val_PR AUC: 0.7236\n",
      "Epoch 20/1000\n",
      "51/51 [==============================] - 6s 120ms/step - loss: 0.3668 - PR AUC: 0.6981 - val_loss: 0.3462 - val_PR AUC: 0.7230\n",
      "Epoch 21/1000\n",
      "51/51 [==============================] - 6s 121ms/step - loss: 0.3693 - PR AUC: 0.6985 - val_loss: 0.3456 - val_PR AUC: 0.7246\n",
      "Epoch 22/1000\n",
      "51/51 [==============================] - 6s 121ms/step - loss: 0.3656 - PR AUC: 0.6993 - val_loss: 0.3463 - val_PR AUC: 0.7258\n",
      "Epoch 23/1000\n",
      "51/51 [==============================] - 6s 122ms/step - loss: 0.3653 - PR AUC: 0.7019 - val_loss: 0.3470 - val_PR AUC: 0.7254\n",
      "Epoch 24/1000\n",
      "51/51 [==============================] - 6s 122ms/step - loss: 0.3634 - PR AUC: 0.7011 - val_loss: 0.3458 - val_PR AUC: 0.7264\n",
      "Epoch 25/1000\n",
      "51/51 [==============================] - 6s 120ms/step - loss: 0.3605 - PR AUC: 0.7067 - val_loss: 0.3453 - val_PR AUC: 0.7269\n",
      "Epoch 26/1000\n",
      "51/51 [==============================] - 6s 115ms/step - loss: 0.3588 - PR AUC: 0.7084 - val_loss: 0.3441 - val_PR AUC: 0.7270\n",
      "Epoch 27/1000\n",
      "51/51 [==============================] - 6s 122ms/step - loss: 0.3582 - PR AUC: 0.7106 - val_loss: 0.3501 - val_PR AUC: 0.7265\n",
      "Epoch 28/1000\n",
      "51/51 [==============================] - 6s 123ms/step - loss: 0.3549 - PR AUC: 0.7146 - val_loss: 0.3514 - val_PR AUC: 0.7265\n",
      "Epoch 29/1000\n",
      "51/51 [==============================] - 6s 117ms/step - loss: 0.3561 - PR AUC: 0.7147 - val_loss: 0.3443 - val_PR AUC: 0.7276\n",
      "Epoch 30/1000\n",
      "51/51 [==============================] - 6s 120ms/step - loss: 0.3541 - PR AUC: 0.7152 - val_loss: 0.3455 - val_PR AUC: 0.7279\n",
      "Epoch 31/1000\n",
      "51/51 [==============================] - 6s 119ms/step - loss: 0.3527 - PR AUC: 0.7160 - val_loss: 0.3460 - val_PR AUC: 0.7280\n",
      "Epoch 32/1000\n",
      "51/51 [==============================] - 6s 124ms/step - loss: 0.3521 - PR AUC: 0.7186 - val_loss: 0.3439 - val_PR AUC: 0.7270\n",
      "Epoch 33/1000\n",
      "51/51 [==============================] - 6s 120ms/step - loss: 0.3545 - PR AUC: 0.7154 - val_loss: 0.3438 - val_PR AUC: 0.7269\n",
      "Epoch 34/1000\n",
      "51/51 [==============================] - 6s 121ms/step - loss: 0.3523 - PR AUC: 0.7197 - val_loss: 0.3472 - val_PR AUC: 0.7271\n",
      "Epoch 35/1000\n",
      "51/51 [==============================] - 6s 119ms/step - loss: 0.3490 - PR AUC: 0.7240 - val_loss: 0.3440 - val_PR AUC: 0.7275\n",
      "Epoch 36/1000\n",
      "51/51 [==============================] - 6s 124ms/step - loss: 0.3489 - PR AUC: 0.7218 - val_loss: 0.3437 - val_PR AUC: 0.7277\n",
      "Epoch 37/1000\n",
      "51/51 [==============================] - 6s 120ms/step - loss: 0.3503 - PR AUC: 0.7195 - val_loss: 0.3448 - val_PR AUC: 0.7263\n",
      "Epoch 38/1000\n",
      "51/51 [==============================] - 6s 120ms/step - loss: 0.3498 - PR AUC: 0.7221 - val_loss: 0.3445 - val_PR AUC: 0.7273\n",
      "Epoch 39/1000\n",
      "51/51 [==============================] - 6s 118ms/step - loss: 0.3497 - PR AUC: 0.7194 - val_loss: 0.3420 - val_PR AUC: 0.7286\n",
      "Epoch 40/1000\n",
      "51/51 [==============================] - 6s 119ms/step - loss: 0.3453 - PR AUC: 0.7271 - val_loss: 0.3437 - val_PR AUC: 0.7288\n",
      "Epoch 41/1000\n",
      "51/51 [==============================] - 6s 121ms/step - loss: 0.3486 - PR AUC: 0.7233 - val_loss: 0.3451 - val_PR AUC: 0.7290\n",
      "Epoch 42/1000\n",
      "51/51 [==============================] - 6s 120ms/step - loss: 0.3477 - PR AUC: 0.7232 - val_loss: 0.3455 - val_PR AUC: 0.7289\n",
      "Epoch 43/1000\n",
      "51/51 [==============================] - 6s 121ms/step - loss: 0.3462 - PR AUC: 0.7243 - val_loss: 0.3437 - val_PR AUC: 0.7288\n",
      "Epoch 44/1000\n",
      "51/51 [==============================] - 6s 123ms/step - loss: 0.3440 - PR AUC: 0.7302 - val_loss: 0.3467 - val_PR AUC: 0.7290\n",
      "Epoch 45/1000\n",
      "51/51 [==============================] - 6s 121ms/step - loss: 0.3477 - PR AUC: 0.7225 - val_loss: 0.3422 - val_PR AUC: 0.7294\n",
      "Epoch 46/1000\n",
      "51/51 [==============================] - 6s 120ms/step - loss: 0.3454 - PR AUC: 0.7272 - val_loss: 0.3471 - val_PR AUC: 0.7296\n",
      "Epoch 47/1000\n",
      "51/51 [==============================] - 6s 120ms/step - loss: 0.3442 - PR AUC: 0.7278 - val_loss: 0.3424 - val_PR AUC: 0.7296\n",
      "Epoch 48/1000\n",
      "51/51 [==============================] - 6s 121ms/step - loss: 0.3420 - PR AUC: 0.7315 - val_loss: 0.3426 - val_PR AUC: 0.7289\n",
      "Epoch 49/1000\n",
      "51/51 [==============================] - 6s 124ms/step - loss: 0.3419 - PR AUC: 0.7314 - val_loss: 0.3426 - val_PR AUC: 0.7289\n"
     ]
    }
   ],
   "source": [
    "early = EarlyStopping(monitor=\"val_loss\", mode=\"min\", patience=10, restore_best_weights=True)\n",
    "callback_list = [early]\n",
    "\n",
    "history = tabtransformer.fit(\n",
    "    train_dataset, \n",
    "    epochs=NUM_EPOCHS, \n",
    "    validation_data=val_dataset,\n",
    "    callbacks=callback_list\n",
    ")"
   ]
  },
  {
   "cell_type": "code",
   "execution_count": 13,
   "metadata": {},
   "outputs": [
    {
     "name": "stdout",
     "output_type": "stream",
     "text": [
      "32/32 [==============================] - 2s 44ms/step\n"
     ]
    }
   ],
   "source": [
    "test_preds = tabtransformer.predict(test_dataset)"
   ]
  },
  {
   "cell_type": "code",
   "execution_count": 14,
   "metadata": {},
   "outputs": [],
   "source": [
    "import numpy as np\n",
    "from sklearn.metrics import roc_auc_score, average_precision_score, accuracy_score"
   ]
  },
  {
   "cell_type": "code",
   "execution_count": 16,
   "metadata": {},
   "outputs": [
    {
     "name": "stdout",
     "output_type": "stream",
     "text": [
      "Test ROC AUC: 0.8956\n",
      "Test PR AUC: 0.7352\n",
      "Test Accuracy: 0.8458\n"
     ]
    }
   ],
   "source": [
    "print(\"Test ROC AUC:\", np.round(roc_auc_score(test_data[LABEL], test_preds.ravel()), 4))\n",
    "print(\"Test PR AUC:\", np.round(average_precision_score(test_data[LABEL], test_preds.ravel()), 4))\n",
    "print(\"Test Accuracy:\", np.round(accuracy_score(test_data[LABEL], test_preds.ravel() > 0.5), 4))"
   ]
  }
 ],
 "metadata": {
  "kernelspec": {
   "display_name": "ndt98",
   "language": "python",
   "name": "python3"
  },
  "language_info": {
   "codemirror_mode": {
    "name": "ipython",
    "version": 3
   },
   "file_extension": ".py",
   "mimetype": "text/x-python",
   "name": "python",
   "nbconvert_exporter": "python",
   "pygments_lexer": "ipython3",
   "version": "3.8.10 (default, Nov 14 2022, 12:59:47) \n[GCC 9.4.0]"
  },
  "orig_nbformat": 4,
  "vscode": {
   "interpreter": {
    "hash": "d9527af22cb6c08264d8618fd63c59f3bb6de63220d210e4091e844c258321a9"
   }
  }
 },
 "nbformat": 4,
 "nbformat_minor": 2
}

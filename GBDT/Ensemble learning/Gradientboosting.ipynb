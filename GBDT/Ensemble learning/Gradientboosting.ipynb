{
 "cells": [
  {
   "attachments": {},
   "cell_type": "markdown",
   "metadata": {},
   "source": [
    "# 1. Data preprocessing"
   ]
  },
  {
   "cell_type": "code",
   "execution_count": 1,
   "metadata": {},
   "outputs": [],
   "source": [
    "import pandas as pd\n",
    "import json"
   ]
  },
  {
   "cell_type": "code",
   "execution_count": 2,
   "metadata": {},
   "outputs": [],
   "source": [
    "ENC = json.loads(open('/media/Z/NDT/Transformer_Tabular/GBDT/Ensemble learning/encoding.json').read())"
   ]
  },
  {
   "cell_type": "code",
   "execution_count": 3,
   "metadata": {},
   "outputs": [],
   "source": [
    "df_train = pd.read_csv('/media/Z/NDT/Transformer_Tabular/dataset/train.csv')\n",
    "df_test = pd.read_csv('/media/Z/NDT/Transformer_Tabular/dataset/test.csv')\n",
    "df_val = pd.read_csv('/media/Z/NDT/Transformer_Tabular/dataset/val.csv')"
   ]
  },
  {
   "cell_type": "code",
   "execution_count": 4,
   "metadata": {},
   "outputs": [],
   "source": [
    "CATEGORY_FEATURES = df_train.columns.difference(df_train.select_dtypes('float').columns).tolist()\n",
    "NUMBER_FEATURES = list(set(df_train.columns) - set(CATEGORY_FEATURES))\n",
    "CATEGORY_FEATURES.remove('income_bracket')"
   ]
  },
  {
   "cell_type": "code",
   "execution_count": 5,
   "metadata": {},
   "outputs": [],
   "source": [
    "def ordinal_encoding(df: pd.DataFrame, category_features: list, encoding: dict) -> pd.DataFrame:\n",
    "    df_ = df.copy()\n",
    "    for c in CATEGORY_FEATURES:\n",
    "        df_[c] = df_[c].map(encoding[c])\n",
    "    return df_\n",
    "        "
   ]
  },
  {
   "cell_type": "code",
   "execution_count": 6,
   "metadata": {},
   "outputs": [],
   "source": [
    "X_train = df_train.drop('income_bracket', axis=1)\n",
    "y_train = df_train.income_bracket\n",
    "X_val = df_val.drop('income_bracket', axis=1)\n",
    "y_val = df_val.income_bracket\n",
    "X_test = df_test.drop('income_bracket', axis=1)\n",
    "y_test = df_test.income_bracket"
   ]
  },
  {
   "cell_type": "code",
   "execution_count": 7,
   "metadata": {},
   "outputs": [],
   "source": [
    "FEATURES = X_train.columns.tolist()"
   ]
  },
  {
   "cell_type": "code",
   "execution_count": 8,
   "metadata": {},
   "outputs": [],
   "source": [
    "X_train_encoding = ordinal_encoding(X_train, CATEGORY_FEATURES, ENC)\n",
    "X_val_encoding = ordinal_encoding(X_val, CATEGORY_FEATURES, ENC)\n",
    "X_test_encoding = ordinal_encoding(X_test, CATEGORY_FEATURES, ENC)"
   ]
  },
  {
   "attachments": {},
   "cell_type": "markdown",
   "metadata": {},
   "source": [
    "# 2. Modeling"
   ]
  },
  {
   "cell_type": "code",
   "execution_count": 9,
   "metadata": {},
   "outputs": [],
   "source": [
    "from sklearn.metrics import classification_report\n",
    "from sklearn.metrics import accuracy_score\n",
    "from sklearn.metrics import confusion_matrix\n",
    "from sklearn.metrics import f1_score"
   ]
  },
  {
   "cell_type": "code",
   "execution_count": 10,
   "metadata": {},
   "outputs": [],
   "source": [
    "from sklearn.ensemble import GradientBoostingClassifier\n",
    "Model = GradientBoostingClassifier()"
   ]
  },
  {
   "cell_type": "code",
   "execution_count": 11,
   "metadata": {},
   "outputs": [
    {
     "name": "stdout",
     "output_type": "stream",
     "text": [
      "              precision    recall  f1-score   support\n",
      "\n",
      "           0       0.88      0.95      0.92     12435\n",
      "           1       0.79      0.59      0.68      3846\n",
      "\n",
      "    accuracy                           0.87     16281\n",
      "   macro avg       0.84      0.77      0.80     16281\n",
      "weighted avg       0.86      0.87      0.86     16281\n",
      "\n"
     ]
    }
   ],
   "source": [
    "Model.fit(X_train_encoding, y_train)\n",
    "y_pred = Model.predict(X_test_encoding)\n",
    "print(classification_report(y_test, y_pred))"
   ]
  },
  {
   "attachments": {},
   "cell_type": "markdown",
   "metadata": {},
   "source": [
    "## 3. Tuning Model"
   ]
  },
  {
   "cell_type": "code",
   "execution_count": 13,
   "metadata": {},
   "outputs": [],
   "source": [
    "import hyperopt\n",
    "import numpy as np\n",
    "\n",
    "def hyperopt_objective(params):\n",
    "    model = GradientBoostingClassifier(\n",
    "        learning_rate=params['learning_rate'],\n",
    "        n_estimators=params['n_estimators'] + 1, # condition >= 1\n",
    "        max_depth=params['max_depth']+1, # condition >= 1\n",
    "    )\n",
    "    \n",
    "    model.fit(X_train_encoding, y_train)\n",
    "    y_pred = model.predict(X_val_encoding)\n",
    "    f1 = f1_score(y_val, y_pred)\n",
    "    return 1 - f1  # as hyperopt minimises"
   ]
  },
  {
   "cell_type": "code",
   "execution_count": 14,
   "metadata": {},
   "outputs": [
    {
     "name": "stdout",
     "output_type": "stream",
     "text": [
      "100%|██████████| 100/100 [15:11<00:00,  9.11s/trial, best loss: 0.2766393442622951]\n",
      "{'learning_rate': 0.12363869941322762, 'max_depth': 5, 'n_estimators': 142}\n"
     ]
    }
   ],
   "source": [
    "params_space = {\n",
    "    'learning_rate': hyperopt.hp.uniform('learning_rate', 1e-3, 5e-1),\n",
    "    'n_estimators': hyperopt.hp.randint('n_estimators', 200),\n",
    "    'max_depth': hyperopt.hp.randint('max_depth', 20),\n",
    "}\n",
    "\n",
    "trials = hyperopt.Trials()\n",
    "\n",
    "best = hyperopt.fmin(\n",
    "    hyperopt_objective,\n",
    "    space=params_space,\n",
    "    algo=hyperopt.tpe.suggest,\n",
    "    max_evals=100,\n",
    "    trials=trials,\n",
    "    rstate=np.random.default_rng(123)\n",
    ")\n",
    "\n",
    "print(best)"
   ]
  },
  {
   "cell_type": "code",
   "execution_count": 18,
   "metadata": {},
   "outputs": [
    {
     "name": "stdout",
     "output_type": "stream",
     "text": [
      "              precision    recall  f1-score   support\n",
      "\n",
      "           0       0.90      0.94      0.92     12435\n",
      "           1       0.78      0.65      0.71      3846\n",
      "\n",
      "    accuracy                           0.87     16281\n",
      "   macro avg       0.84      0.79      0.81     16281\n",
      "weighted avg       0.87      0.87      0.87     16281\n",
      "\n"
     ]
    }
   ],
   "source": [
    "model = GradientBoostingClassifier(\n",
    "        learning_rate=best['learning_rate'],\n",
    "        n_estimators=best['n_estimators']+1,\n",
    "        max_depth=best['max_depth']+1,\n",
    "        random_state=123\n",
    "    )\n",
    "    \n",
    "model.fit(X_train_encoding, y_train)\n",
    "y_pred = model.predict(X_test_encoding)\n",
    "print(classification_report(y_test, y_pred))"
   ]
  },
  {
   "cell_type": "code",
   "execution_count": 19,
   "metadata": {},
   "outputs": [],
   "source": [
    "def convert_to_df(trials):\n",
    "    out = []\n",
    "    for trial in trials:\n",
    "        temp = dict()\n",
    "        temp['learning_rate'] = trial['misc']['vals']['learning_rate'][0]\n",
    "        temp['n_estimators'] = trial['misc']['vals']['n_estimators'][0] + 1\n",
    "        temp['max_depth'] = trial['misc']['vals']['max_depth'][0] + 1\n",
    "        temp['loss'] = trial['result']['loss']\n",
    "        temp['f1'] = 1 - trial['result']['loss']\n",
    "        out.append(temp)\n",
    "    df =  pd.DataFrame(out)\n",
    "    df = df.sort_values(by=['f1'], ascending=False)\n",
    "    return df.head(20)"
   ]
  },
  {
   "cell_type": "code",
   "execution_count": 20,
   "metadata": {},
   "outputs": [
    {
     "data": {
      "text/html": [
       "<div>\n",
       "<style scoped>\n",
       "    .dataframe tbody tr th:only-of-type {\n",
       "        vertical-align: middle;\n",
       "    }\n",
       "\n",
       "    .dataframe tbody tr th {\n",
       "        vertical-align: top;\n",
       "    }\n",
       "\n",
       "    .dataframe thead th {\n",
       "        text-align: right;\n",
       "    }\n",
       "</style>\n",
       "<table border=\"1\" class=\"dataframe\">\n",
       "  <thead>\n",
       "    <tr style=\"text-align: right;\">\n",
       "      <th></th>\n",
       "      <th>learning_rate</th>\n",
       "      <th>n_estimators</th>\n",
       "      <th>max_depth</th>\n",
       "      <th>loss</th>\n",
       "      <th>f1</th>\n",
       "    </tr>\n",
       "  </thead>\n",
       "  <tbody>\n",
       "    <tr>\n",
       "      <th>60</th>\n",
       "      <td>0.123639</td>\n",
       "      <td>143</td>\n",
       "      <td>6</td>\n",
       "      <td>0.276639</td>\n",
       "      <td>0.723361</td>\n",
       "    </tr>\n",
       "    <tr>\n",
       "      <th>25</th>\n",
       "      <td>0.131090</td>\n",
       "      <td>139</td>\n",
       "      <td>6</td>\n",
       "      <td>0.277473</td>\n",
       "      <td>0.722527</td>\n",
       "    </tr>\n",
       "    <tr>\n",
       "      <th>64</th>\n",
       "      <td>0.235428</td>\n",
       "      <td>160</td>\n",
       "      <td>3</td>\n",
       "      <td>0.279029</td>\n",
       "      <td>0.720971</td>\n",
       "    </tr>\n",
       "    <tr>\n",
       "      <th>70</th>\n",
       "      <td>0.165687</td>\n",
       "      <td>143</td>\n",
       "      <td>6</td>\n",
       "      <td>0.279372</td>\n",
       "      <td>0.720628</td>\n",
       "    </tr>\n",
       "    <tr>\n",
       "      <th>15</th>\n",
       "      <td>0.087649</td>\n",
       "      <td>198</td>\n",
       "      <td>6</td>\n",
       "      <td>0.279397</td>\n",
       "      <td>0.720603</td>\n",
       "    </tr>\n",
       "    <tr>\n",
       "      <th>82</th>\n",
       "      <td>0.179541</td>\n",
       "      <td>137</td>\n",
       "      <td>4</td>\n",
       "      <td>0.279559</td>\n",
       "      <td>0.720441</td>\n",
       "    </tr>\n",
       "    <tr>\n",
       "      <th>91</th>\n",
       "      <td>0.097649</td>\n",
       "      <td>181</td>\n",
       "      <td>6</td>\n",
       "      <td>0.279917</td>\n",
       "      <td>0.720083</td>\n",
       "    </tr>\n",
       "    <tr>\n",
       "      <th>26</th>\n",
       "      <td>0.122617</td>\n",
       "      <td>139</td>\n",
       "      <td>6</td>\n",
       "      <td>0.280055</td>\n",
       "      <td>0.719945</td>\n",
       "    </tr>\n",
       "    <tr>\n",
       "      <th>13</th>\n",
       "      <td>0.252780</td>\n",
       "      <td>57</td>\n",
       "      <td>8</td>\n",
       "      <td>0.281292</td>\n",
       "      <td>0.718708</td>\n",
       "    </tr>\n",
       "    <tr>\n",
       "      <th>51</th>\n",
       "      <td>0.238989</td>\n",
       "      <td>132</td>\n",
       "      <td>5</td>\n",
       "      <td>0.281772</td>\n",
       "      <td>0.718228</td>\n",
       "    </tr>\n",
       "    <tr>\n",
       "      <th>68</th>\n",
       "      <td>0.263486</td>\n",
       "      <td>196</td>\n",
       "      <td>3</td>\n",
       "      <td>0.283397</td>\n",
       "      <td>0.716603</td>\n",
       "    </tr>\n",
       "    <tr>\n",
       "      <th>62</th>\n",
       "      <td>0.127899</td>\n",
       "      <td>103</td>\n",
       "      <td>6</td>\n",
       "      <td>0.284974</td>\n",
       "      <td>0.715026</td>\n",
       "    </tr>\n",
       "    <tr>\n",
       "      <th>21</th>\n",
       "      <td>0.133244</td>\n",
       "      <td>198</td>\n",
       "      <td>6</td>\n",
       "      <td>0.285027</td>\n",
       "      <td>0.714973</td>\n",
       "    </tr>\n",
       "    <tr>\n",
       "      <th>1</th>\n",
       "      <td>0.069425</td>\n",
       "      <td>138</td>\n",
       "      <td>10</td>\n",
       "      <td>0.287340</td>\n",
       "      <td>0.712660</td>\n",
       "    </tr>\n",
       "    <tr>\n",
       "      <th>22</th>\n",
       "      <td>0.251259</td>\n",
       "      <td>118</td>\n",
       "      <td>3</td>\n",
       "      <td>0.289510</td>\n",
       "      <td>0.710490</td>\n",
       "    </tr>\n",
       "    <tr>\n",
       "      <th>41</th>\n",
       "      <td>0.063101</td>\n",
       "      <td>85</td>\n",
       "      <td>9</td>\n",
       "      <td>0.290076</td>\n",
       "      <td>0.709924</td>\n",
       "    </tr>\n",
       "    <tr>\n",
       "      <th>89</th>\n",
       "      <td>0.195091</td>\n",
       "      <td>151</td>\n",
       "      <td>8</td>\n",
       "      <td>0.290301</td>\n",
       "      <td>0.709699</td>\n",
       "    </tr>\n",
       "    <tr>\n",
       "      <th>81</th>\n",
       "      <td>0.116802</td>\n",
       "      <td>195</td>\n",
       "      <td>3</td>\n",
       "      <td>0.291184</td>\n",
       "      <td>0.708816</td>\n",
       "    </tr>\n",
       "    <tr>\n",
       "      <th>29</th>\n",
       "      <td>0.036239</td>\n",
       "      <td>164</td>\n",
       "      <td>7</td>\n",
       "      <td>0.291565</td>\n",
       "      <td>0.708435</td>\n",
       "    </tr>\n",
       "    <tr>\n",
       "      <th>49</th>\n",
       "      <td>0.457920</td>\n",
       "      <td>142</td>\n",
       "      <td>2</td>\n",
       "      <td>0.293955</td>\n",
       "      <td>0.706045</td>\n",
       "    </tr>\n",
       "  </tbody>\n",
       "</table>\n",
       "</div>"
      ],
      "text/plain": [
       "    learning_rate  n_estimators  max_depth      loss        f1\n",
       "60       0.123639           143          6  0.276639  0.723361\n",
       "25       0.131090           139          6  0.277473  0.722527\n",
       "64       0.235428           160          3  0.279029  0.720971\n",
       "70       0.165687           143          6  0.279372  0.720628\n",
       "15       0.087649           198          6  0.279397  0.720603\n",
       "82       0.179541           137          4  0.279559  0.720441\n",
       "91       0.097649           181          6  0.279917  0.720083\n",
       "26       0.122617           139          6  0.280055  0.719945\n",
       "13       0.252780            57          8  0.281292  0.718708\n",
       "51       0.238989           132          5  0.281772  0.718228\n",
       "68       0.263486           196          3  0.283397  0.716603\n",
       "62       0.127899           103          6  0.284974  0.715026\n",
       "21       0.133244           198          6  0.285027  0.714973\n",
       "1        0.069425           138         10  0.287340  0.712660\n",
       "22       0.251259           118          3  0.289510  0.710490\n",
       "41       0.063101            85          9  0.290076  0.709924\n",
       "89       0.195091           151          8  0.290301  0.709699\n",
       "81       0.116802           195          3  0.291184  0.708816\n",
       "29       0.036239           164          7  0.291565  0.708435\n",
       "49       0.457920           142          2  0.293955  0.706045"
      ]
     },
     "execution_count": 20,
     "metadata": {},
     "output_type": "execute_result"
    }
   ],
   "source": [
    "convert_to_df(trials.trials)"
   ]
  },
  {
   "attachments": {},
   "cell_type": "markdown",
   "metadata": {},
   "source": [
    "## 4. Save and load model"
   ]
  },
  {
   "cell_type": "code",
   "execution_count": 21,
   "metadata": {},
   "outputs": [],
   "source": [
    "import pickle\n",
    "filename = 'GradientBoosting.sav'\n",
    "pickle.dump(model, open(filename, 'wb'))"
   ]
  },
  {
   "cell_type": "code",
   "execution_count": 22,
   "metadata": {},
   "outputs": [],
   "source": [
    "loaded_model = pickle.load(open(filename, 'rb'))"
   ]
  },
  {
   "cell_type": "code",
   "execution_count": 23,
   "metadata": {},
   "outputs": [
    {
     "name": "stdout",
     "output_type": "stream",
     "text": [
      "              precision    recall  f1-score   support\n",
      "\n",
      "           0       0.90      0.94      0.92     12435\n",
      "           1       0.78      0.65      0.71      3846\n",
      "\n",
      "    accuracy                           0.87     16281\n",
      "   macro avg       0.84      0.79      0.81     16281\n",
      "weighted avg       0.87      0.87      0.87     16281\n",
      "\n"
     ]
    }
   ],
   "source": [
    "y_pred = loaded_model.predict(X_test_encoding)\n",
    "print(classification_report(y_test, y_pred))"
   ]
  },
  {
   "attachments": {},
   "cell_type": "markdown",
   "metadata": {},
   "source": [
    "## 5. Explained"
   ]
  },
  {
   "cell_type": "code",
   "execution_count": 30,
   "metadata": {},
   "outputs": [],
   "source": [
    "feature_importance_normalized = loaded_model.feature_importances_.tolist()"
   ]
  },
  {
   "cell_type": "code",
   "execution_count": 32,
   "metadata": {},
   "outputs": [],
   "source": [
    "feature_importance = list(zip(feature_importance_normalized,FEATURES))"
   ]
  },
  {
   "cell_type": "code",
   "execution_count": 33,
   "metadata": {},
   "outputs": [],
   "source": [
    "feature_importance=sorted(feature_importance, key=lambda x:x[0], reverse= True)\n",
    "importances, features = zip(*feature_importance)"
   ]
  },
  {
   "cell_type": "code",
   "execution_count": 34,
   "metadata": {},
   "outputs": [],
   "source": [
    "import matplotlib.pyplot as plt"
   ]
  },
  {
   "cell_type": "code",
   "execution_count": 35,
   "metadata": {},
   "outputs": [
    {
     "data": {
      "image/png": "[encoded data removed]",
      "text/plain": [
       "<Figure size 640x480 with 1 Axes>"
      ]
     },
     "metadata": {},
     "output_type": "display_data"
    }
   ],
   "source": [
    "plt.bar(features, importances, color ='maroon',width = 0.4)\n",
    "plt.xticks(rotation = 90)\n",
    "plt.show()"
   ]
  },
  {
   "cell_type": "code",
   "execution_count": null,
   "metadata": {},
   "outputs": [],
   "source": []
  }
 ],
 "metadata": {
  "kernelspec": {
   "display_name": "ndt98",
   "language": "python",
   "name": "python3"
  },
  "language_info": {
   "codemirror_mode": {
    "name": "ipython",
    "version": 3
   },
   "file_extension": ".py",
   "mimetype": "text/x-python",
   "name": "python",
   "nbconvert_exporter": "python",
   "pygments_lexer": "ipython3",
   "version": "3.8.10"
  },
  "orig_nbformat": 4,
  "vscode": {
   "interpreter": {
    "hash": "d9527af22cb6c08264d8618fd63c59f3bb6de63220d210e4091e844c258321a9"
   }
  }
 },
 "nbformat": 4,
 "nbformat_minor": 2
}

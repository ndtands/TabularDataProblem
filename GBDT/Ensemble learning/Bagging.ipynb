{
 "cells": [
  {
   "attachments": {},
   "cell_type": "markdown",
   "metadata": {},
   "source": [
    "# 1. Data preprocessing"
   ]
  },
  {
   "cell_type": "code",
   "execution_count": 1,
   "metadata": {},
   "outputs": [],
   "source": [
    "import pandas as pd\n",
    "import json"
   ]
  },
  {
   "cell_type": "code",
   "execution_count": 2,
   "metadata": {},
   "outputs": [],
   "source": [
    "ENC = json.loads(open('/media/Z/NDT/Transformer_Tabular/GBDT/Ensemble learning/encoding.json').read())"
   ]
  },
  {
   "cell_type": "code",
   "execution_count": 3,
   "metadata": {},
   "outputs": [],
   "source": [
    "df_train = pd.read_csv('/media/Z/NDT/Transformer_Tabular/dataset/train.csv')\n",
    "df_test = pd.read_csv('/media/Z/NDT/Transformer_Tabular/dataset/test.csv')\n",
    "df_val = pd.read_csv('/media/Z/NDT/Transformer_Tabular/dataset/val.csv')"
   ]
  },
  {
   "cell_type": "code",
   "execution_count": 4,
   "metadata": {},
   "outputs": [],
   "source": [
    "CATEGORY_FEATURES = df_train.columns.difference(df_train.select_dtypes('float').columns).tolist()\n",
    "NUMBER_FEATURES = list(set(df_train.columns) - set(CATEGORY_FEATURES))\n",
    "CATEGORY_FEATURES.remove('income_bracket')"
   ]
  },
  {
   "cell_type": "code",
   "execution_count": null,
   "metadata": {},
   "outputs": [],
   "source": [
    "def ordinal_encoding(df: pd.DataFrame, category_features: list, encoding: dict) -> pd.DataFrame:\n",
    "    df_ = df.copy()\n",
    "    for c in CATEGORY_FEATURES:\n",
    "        df_[c] = df_[c].map(encoding[c])\n",
    "    return df_\n",
    "        "
   ]
  },
  {
   "cell_type": "code",
   "execution_count": 6,
   "metadata": {},
   "outputs": [],
   "source": [
    "X_train = df_train.drop('income_bracket', axis=1)\n",
    "y_train = df_train.income_bracket\n",
    "X_val = df_val.drop('income_bracket', axis=1)\n",
    "y_val = df_val.income_bracket\n",
    "X_test = df_test.drop('income_bracket', axis=1)\n",
    "y_test = df_test.income_bracket"
   ]
  },
  {
   "cell_type": "code",
   "execution_count": 7,
   "metadata": {},
   "outputs": [],
   "source": [
    "FEATURES = X_train.columns.tolist()"
   ]
  },
  {
   "cell_type": "code",
   "execution_count": 8,
   "metadata": {},
   "outputs": [],
   "source": [
    "X_train_encoding = ordinal_encoding(X_train, CATEGORY_FEATURES, ENC)\n",
    "X_val_encoding = ordinal_encoding(X_val, CATEGORY_FEATURES, ENC)\n",
    "X_test_encoding = ordinal_encoding(X_test, CATEGORY_FEATURES, ENC)"
   ]
  },
  {
   "attachments": {},
   "cell_type": "markdown",
   "metadata": {},
   "source": [
    "# 2. Modeling"
   ]
  },
  {
   "cell_type": "code",
   "execution_count": 9,
   "metadata": {},
   "outputs": [],
   "source": [
    "from sklearn.metrics import classification_report\n",
    "from sklearn.metrics import accuracy_score\n",
    "from sklearn.metrics import confusion_matrix\n",
    "from sklearn.metrics import f1_score"
   ]
  },
  {
   "cell_type": "code",
   "execution_count": 10,
   "metadata": {},
   "outputs": [],
   "source": [
    "from sklearn.ensemble import BaggingClassifier\n",
    "Model = BaggingClassifier()"
   ]
  },
  {
   "cell_type": "code",
   "execution_count": 11,
   "metadata": {},
   "outputs": [
    {
     "name": "stdout",
     "output_type": "stream",
     "text": [
      "              precision    recall  f1-score   support\n",
      "\n",
      "           0       0.87      0.93      0.90     12435\n",
      "           1       0.71      0.56      0.63      3846\n",
      "\n",
      "    accuracy                           0.84     16281\n",
      "   macro avg       0.79      0.74      0.76     16281\n",
      "weighted avg       0.83      0.84      0.84     16281\n",
      "\n"
     ]
    }
   ],
   "source": [
    "Model.fit(X_train_encoding, y_train)\n",
    "y_pred = Model.predict(X_test_encoding)\n",
    "print(classification_report(y_test, y_pred))"
   ]
  },
  {
   "attachments": {},
   "cell_type": "markdown",
   "metadata": {},
   "source": [
    "## 3. Tuning Model"
   ]
  },
  {
   "cell_type": "code",
   "execution_count": 14,
   "metadata": {},
   "outputs": [],
   "source": [
    "import hyperopt\n",
    "import numpy as np\n",
    "\n",
    "def hyperopt_objective(params):\n",
    "    model = BaggingClassifier(\n",
    "        n_estimators=params['n_estimators'] + 1, # condition >= 1\n",
    "    )\n",
    "    \n",
    "    model.fit(X_train_encoding, y_train)\n",
    "    y_pred = model.predict(X_val_encoding)\n",
    "    f1 = f1_score(y_val, y_pred)\n",
    "    return 1 - f1  # as hyperopt minimises"
   ]
  },
  {
   "cell_type": "code",
   "execution_count": 15,
   "metadata": {},
   "outputs": [
    {
     "name": "stdout",
     "output_type": "stream",
     "text": [
      "100%|██████████| 100/100 [08:50<00:00,  5.30s/trial, best loss: 0.32373113854595337]\n",
      "{'n_estimators': 136}\n"
     ]
    }
   ],
   "source": [
    "params_space = {\n",
    "    'n_estimators': hyperopt.hp.randint('n_estimators', 200),\n",
    "}\n",
    "\n",
    "trials = hyperopt.Trials()\n",
    "\n",
    "best = hyperopt.fmin(\n",
    "    hyperopt_objective,\n",
    "    space=params_space,\n",
    "    algo=hyperopt.tpe.suggest,\n",
    "    max_evals=100,\n",
    "    trials=trials,\n",
    "    rstate=np.random.default_rng(123)\n",
    ")\n",
    "\n",
    "print(best)"
   ]
  },
  {
   "cell_type": "code",
   "execution_count": 16,
   "metadata": {},
   "outputs": [
    {
     "name": "stdout",
     "output_type": "stream",
     "text": [
      "              precision    recall  f1-score   support\n",
      "\n",
      "           0       0.88      0.93      0.90     12435\n",
      "           1       0.72      0.60      0.66      3846\n",
      "\n",
      "    accuracy                           0.85     16281\n",
      "   macro avg       0.80      0.77      0.78     16281\n",
      "weighted avg       0.85      0.85      0.85     16281\n",
      "\n"
     ]
    }
   ],
   "source": [
    "model = BaggingClassifier(\n",
    "        n_estimators=best['n_estimators']+1,\n",
    "        random_state=123\n",
    "    )\n",
    "    \n",
    "model.fit(X_train_encoding, y_train)\n",
    "y_pred = model.predict(X_test_encoding)\n",
    "print(classification_report(y_test, y_pred))"
   ]
  },
  {
   "cell_type": "code",
   "execution_count": 17,
   "metadata": {},
   "outputs": [],
   "source": [
    "def convert_to_df(trials):\n",
    "    out = []\n",
    "    for trial in trials:\n",
    "        temp = dict()\n",
    "        temp['n_estimators'] = trial['misc']['vals']['n_estimators'][0] + 1\n",
    "        temp['loss'] = trial['result']['loss']\n",
    "        temp['f1'] = 1 - trial['result']['loss']\n",
    "        out.append(temp)\n",
    "    df =  pd.DataFrame(out)\n",
    "    df = df.sort_values(by=['f1'], ascending=False)\n",
    "    return df.head(20)"
   ]
  },
  {
   "cell_type": "code",
   "execution_count": 18,
   "metadata": {},
   "outputs": [
    {
     "data": {
      "text/html": [
       "<div>\n",
       "<style scoped>\n",
       "    .dataframe tbody tr th:only-of-type {\n",
       "        vertical-align: middle;\n",
       "    }\n",
       "\n",
       "    .dataframe tbody tr th {\n",
       "        vertical-align: top;\n",
       "    }\n",
       "\n",
       "    .dataframe thead th {\n",
       "        text-align: right;\n",
       "    }\n",
       "</style>\n",
       "<table border=\"1\" class=\"dataframe\">\n",
       "  <thead>\n",
       "    <tr style=\"text-align: right;\">\n",
       "      <th></th>\n",
       "      <th>n_estimators</th>\n",
       "      <th>loss</th>\n",
       "      <th>f1</th>\n",
       "    </tr>\n",
       "  </thead>\n",
       "  <tbody>\n",
       "    <tr>\n",
       "      <th>82</th>\n",
       "      <td>137</td>\n",
       "      <td>0.323731</td>\n",
       "      <td>0.676269</td>\n",
       "    </tr>\n",
       "    <tr>\n",
       "      <th>9</th>\n",
       "      <td>149</td>\n",
       "      <td>0.323992</td>\n",
       "      <td>0.676008</td>\n",
       "    </tr>\n",
       "    <tr>\n",
       "      <th>7</th>\n",
       "      <td>65</td>\n",
       "      <td>0.324408</td>\n",
       "      <td>0.675592</td>\n",
       "    </tr>\n",
       "    <tr>\n",
       "      <th>96</th>\n",
       "      <td>105</td>\n",
       "      <td>0.324845</td>\n",
       "      <td>0.675155</td>\n",
       "    </tr>\n",
       "    <tr>\n",
       "      <th>91</th>\n",
       "      <td>137</td>\n",
       "      <td>0.325077</td>\n",
       "      <td>0.674923</td>\n",
       "    </tr>\n",
       "    <tr>\n",
       "      <th>5</th>\n",
       "      <td>126</td>\n",
       "      <td>0.325309</td>\n",
       "      <td>0.674691</td>\n",
       "    </tr>\n",
       "    <tr>\n",
       "      <th>52</th>\n",
       "      <td>39</td>\n",
       "      <td>0.325589</td>\n",
       "      <td>0.674411</td>\n",
       "    </tr>\n",
       "    <tr>\n",
       "      <th>58</th>\n",
       "      <td>128</td>\n",
       "      <td>0.325974</td>\n",
       "      <td>0.674026</td>\n",
       "    </tr>\n",
       "    <tr>\n",
       "      <th>29</th>\n",
       "      <td>164</td>\n",
       "      <td>0.326222</td>\n",
       "      <td>0.673778</td>\n",
       "    </tr>\n",
       "    <tr>\n",
       "      <th>59</th>\n",
       "      <td>150</td>\n",
       "      <td>0.326244</td>\n",
       "      <td>0.673756</td>\n",
       "    </tr>\n",
       "    <tr>\n",
       "      <th>18</th>\n",
       "      <td>169</td>\n",
       "      <td>0.326265</td>\n",
       "      <td>0.673735</td>\n",
       "    </tr>\n",
       "    <tr>\n",
       "      <th>23</th>\n",
       "      <td>180</td>\n",
       "      <td>0.326432</td>\n",
       "      <td>0.673568</td>\n",
       "    </tr>\n",
       "    <tr>\n",
       "      <th>47</th>\n",
       "      <td>31</td>\n",
       "      <td>0.326733</td>\n",
       "      <td>0.673267</td>\n",
       "    </tr>\n",
       "    <tr>\n",
       "      <th>53</th>\n",
       "      <td>197</td>\n",
       "      <td>0.326903</td>\n",
       "      <td>0.673097</td>\n",
       "    </tr>\n",
       "    <tr>\n",
       "      <th>84</th>\n",
       "      <td>77</td>\n",
       "      <td>0.326930</td>\n",
       "      <td>0.673070</td>\n",
       "    </tr>\n",
       "    <tr>\n",
       "      <th>67</th>\n",
       "      <td>83</td>\n",
       "      <td>0.327167</td>\n",
       "      <td>0.672833</td>\n",
       "    </tr>\n",
       "    <tr>\n",
       "      <th>51</th>\n",
       "      <td>132</td>\n",
       "      <td>0.327336</td>\n",
       "      <td>0.672664</td>\n",
       "    </tr>\n",
       "    <tr>\n",
       "      <th>2</th>\n",
       "      <td>145</td>\n",
       "      <td>0.327348</td>\n",
       "      <td>0.672652</td>\n",
       "    </tr>\n",
       "    <tr>\n",
       "      <th>62</th>\n",
       "      <td>103</td>\n",
       "      <td>0.327373</td>\n",
       "      <td>0.672627</td>\n",
       "    </tr>\n",
       "    <tr>\n",
       "      <th>88</th>\n",
       "      <td>49</td>\n",
       "      <td>0.327403</td>\n",
       "      <td>0.672597</td>\n",
       "    </tr>\n",
       "  </tbody>\n",
       "</table>\n",
       "</div>"
      ],
      "text/plain": [
       "    n_estimators      loss        f1\n",
       "82           137  0.323731  0.676269\n",
       "9            149  0.323992  0.676008\n",
       "7             65  0.324408  0.675592\n",
       "96           105  0.324845  0.675155\n",
       "91           137  0.325077  0.674923\n",
       "5            126  0.325309  0.674691\n",
       "52            39  0.325589  0.674411\n",
       "58           128  0.325974  0.674026\n",
       "29           164  0.326222  0.673778\n",
       "59           150  0.326244  0.673756\n",
       "18           169  0.326265  0.673735\n",
       "23           180  0.326432  0.673568\n",
       "47            31  0.326733  0.673267\n",
       "53           197  0.326903  0.673097\n",
       "84            77  0.326930  0.673070\n",
       "67            83  0.327167  0.672833\n",
       "51           132  0.327336  0.672664\n",
       "2            145  0.327348  0.672652\n",
       "62           103  0.327373  0.672627\n",
       "88            49  0.327403  0.672597"
      ]
     },
     "execution_count": 18,
     "metadata": {},
     "output_type": "execute_result"
    }
   ],
   "source": [
    "convert_to_df(trials.trials)"
   ]
  },
  {
   "attachments": {},
   "cell_type": "markdown",
   "metadata": {},
   "source": [
    "## 4. Save and load model"
   ]
  },
  {
   "cell_type": "code",
   "execution_count": 19,
   "metadata": {},
   "outputs": [],
   "source": [
    "import pickle\n",
    "filename = 'Bagging.sav'\n",
    "pickle.dump(model, open(filename, 'wb'))"
   ]
  },
  {
   "cell_type": "code",
   "execution_count": 20,
   "metadata": {},
   "outputs": [],
   "source": [
    "loaded_model = pickle.load(open(filename, 'rb'))"
   ]
  },
  {
   "cell_type": "code",
   "execution_count": 21,
   "metadata": {},
   "outputs": [
    {
     "name": "stdout",
     "output_type": "stream",
     "text": [
      "              precision    recall  f1-score   support\n",
      "\n",
      "           0       0.88      0.93      0.90     12435\n",
      "           1       0.72      0.60      0.66      3846\n",
      "\n",
      "    accuracy                           0.85     16281\n",
      "   macro avg       0.80      0.77      0.78     16281\n",
      "weighted avg       0.85      0.85      0.85     16281\n",
      "\n"
     ]
    }
   ],
   "source": [
    "y_pred = loaded_model.predict(X_test_encoding)\n",
    "print(classification_report(y_test, y_pred))"
   ]
  },
  {
   "attachments": {},
   "cell_type": "markdown",
   "metadata": {},
   "source": [
    "## 5. Exmplained"
   ]
  },
  {
   "cell_type": "code",
   "execution_count": 22,
   "metadata": {},
   "outputs": [],
   "source": [
    "feature_importance_normalized = np.std([tree.feature_importances_ for tree in \n",
    "                                        loaded_model.estimators_],\n",
    "                                        axis = 0)"
   ]
  },
  {
   "cell_type": "code",
   "execution_count": 23,
   "metadata": {},
   "outputs": [],
   "source": [
    "feature_importance = list(zip(feature_importance_normalized.tolist(),FEATURES))"
   ]
  },
  {
   "cell_type": "code",
   "execution_count": 24,
   "metadata": {},
   "outputs": [],
   "source": [
    "feature_importance=sorted(feature_importance, key=lambda x:x[0], reverse= True)\n",
    "importances, features = zip(*feature_importance)"
   ]
  },
  {
   "cell_type": "code",
   "execution_count": 25,
   "metadata": {},
   "outputs": [],
   "source": [
    "import matplotlib.pyplot as plt"
   ]
  },
  {
   "cell_type": "code",
   "execution_count": 26,
   "metadata": {},
   "outputs": [
    {
     "data": {
      "image/png": "[encoded data removed]",
      "text/plain": [
       "<Figure size 640x480 with 1 Axes>"
      ]
     },
     "metadata": {},
     "output_type": "display_data"
    }
   ],
   "source": [
    "plt.bar(features, importances, color ='maroon',width = 0.4)\n",
    "plt.xticks(rotation = 90)\n",
    "plt.show()"
   ]
  },
  {
   "cell_type": "code",
   "execution_count": null,
   "metadata": {},
   "outputs": [],
   "source": []
  }
 ],
 "metadata": {
  "kernelspec": {
   "display_name": "ndt98",
   "language": "python",
   "name": "python3"
  },
  "language_info": {
   "codemirror_mode": {
    "name": "ipython",
    "version": 3
   },
   "file_extension": ".py",
   "mimetype": "text/x-python",
   "name": "python",
   "nbconvert_exporter": "python",
   "pygments_lexer": "ipython3",
   "version": "3.8.10"
  },
  "orig_nbformat": 4,
  "vscode": {
   "interpreter": {
    "hash": "d9527af22cb6c08264d8618fd63c59f3bb6de63220d210e4091e844c258321a9"
   }
  }
 },
 "nbformat": 4,
 "nbformat_minor": 2
}

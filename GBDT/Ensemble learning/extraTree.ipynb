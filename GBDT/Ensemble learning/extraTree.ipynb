{
 "cells": [
  {
   "attachments": {},
   "cell_type": "markdown",
   "metadata": {},
   "source": [
    "# 1. Data preprocessing"
   ]
  },
  {
   "cell_type": "code",
   "execution_count": 1,
   "metadata": {},
   "outputs": [],
   "source": [
    "import pandas as pd\n",
    "import json"
   ]
  },
  {
   "cell_type": "code",
   "execution_count": 2,
   "metadata": {},
   "outputs": [],
   "source": [
    "ENC = json.loads(open('/media/Z/NDT/Transformer_Tabular/GBDT/Ensemble learning/encoding.json').read())"
   ]
  },
  {
   "cell_type": "code",
   "execution_count": 3,
   "metadata": {},
   "outputs": [],
   "source": [
    "df_train = pd.read_csv('/media/Z/NDT/Transformer_Tabular/dataset/train.csv')\n",
    "df_test = pd.read_csv('/media/Z/NDT/Transformer_Tabular/dataset/test.csv')\n",
    "df_val = pd.read_csv('/media/Z/NDT/Transformer_Tabular/dataset/val.csv')"
   ]
  },
  {
   "cell_type": "code",
   "execution_count": 4,
   "metadata": {},
   "outputs": [],
   "source": [
    "CATEGORY_FEATURES = df_train.columns.difference(df_train.select_dtypes('float').columns).tolist()\n",
    "NUMBER_FEATURES = list(set(df_train.columns) - set(CATEGORY_FEATURES))\n",
    "CATEGORY_FEATURES.remove('income_bracket')"
   ]
  },
  {
   "cell_type": "code",
   "execution_count": 5,
   "metadata": {},
   "outputs": [],
   "source": [
    "def ordinal_encoding(df: pd.DataFrame, category_features: list, encoding: dict) -> pd.DataFrame:\n",
    "    df_ = df.copy()\n",
    "    for c in CATEGORY_FEATURES:\n",
    "        df_[c] = df_[c].map(encoding[c])\n",
    "    return df_\n",
    "        "
   ]
  },
  {
   "cell_type": "code",
   "execution_count": 7,
   "metadata": {},
   "outputs": [],
   "source": [
    "X_train = df_train.drop('income_bracket', axis=1)\n",
    "y_train = df_train.income_bracket\n",
    "X_val = df_val.drop('income_bracket', axis=1)\n",
    "y_val = df_val.income_bracket\n",
    "X_test = df_test.drop('income_bracket', axis=1)\n",
    "y_test = df_test.income_bracket"
   ]
  },
  {
   "cell_type": "code",
   "execution_count": 47,
   "metadata": {},
   "outputs": [],
   "source": [
    "FEATURES = X_train.columns.tolist()"
   ]
  },
  {
   "cell_type": "code",
   "execution_count": 8,
   "metadata": {},
   "outputs": [],
   "source": [
    "X_train_encoding = ordinal_encoding(X_train, CATEGORY_FEATURES, ENC)\n",
    "X_val_encoding = ordinal_encoding(X_val, CATEGORY_FEATURES, ENC)\n",
    "X_test_encoding = ordinal_encoding(X_test, CATEGORY_FEATURES, ENC)"
   ]
  },
  {
   "attachments": {},
   "cell_type": "markdown",
   "metadata": {},
   "source": [
    "# 2. Modeling"
   ]
  },
  {
   "cell_type": "code",
   "execution_count": 9,
   "metadata": {},
   "outputs": [],
   "source": [
    "from sklearn.metrics import classification_report\n",
    "from sklearn.metrics import accuracy_score\n",
    "from sklearn.metrics import confusion_matrix\n",
    "from sklearn.metrics import f1_score"
   ]
  },
  {
   "cell_type": "code",
   "execution_count": 10,
   "metadata": {},
   "outputs": [],
   "source": [
    "from sklearn.ensemble import ExtraTreesClassifier\n",
    "Model = ExtraTreesClassifier()"
   ]
  },
  {
   "cell_type": "code",
   "execution_count": 14,
   "metadata": {},
   "outputs": [
    {
     "name": "stdout",
     "output_type": "stream",
     "text": [
      "              precision    recall  f1-score   support\n",
      "\n",
      "           0       0.88      0.92      0.90     12435\n",
      "           1       0.69      0.59      0.64      3846\n",
      "\n",
      "    accuracy                           0.84     16281\n",
      "   macro avg       0.79      0.75      0.77     16281\n",
      "weighted avg       0.84      0.84      0.84     16281\n",
      "\n"
     ]
    }
   ],
   "source": [
    "Model.fit(X_train_encoding, y_train)\n",
    "y_pred = Model.predict(X_test_encoding)\n",
    "print(classification_report(y_test, y_pred))"
   ]
  },
  {
   "attachments": {},
   "cell_type": "markdown",
   "metadata": {},
   "source": [
    "## 3. Tuning Model"
   ]
  },
  {
   "cell_type": "code",
   "execution_count": 23,
   "metadata": {},
   "outputs": [],
   "source": [
    "import hyperopt\n",
    "import numpy as np\n",
    "\n",
    "def hyperopt_objective(params):\n",
    "    model = ExtraTreesClassifier(\n",
    "        n_estimators=params['n_estimators'] + 1, # condition >= 1\n",
    "        max_depth=params['max_depth']+1, # condition >= 1\n",
    "    )\n",
    "    \n",
    "    model.fit(X_train_encoding, y_train)\n",
    "    y_pred = model.predict(X_val_encoding)\n",
    "    f1 = f1_score(y_val, y_pred)\n",
    "    return 1 - f1  # as hyperopt minimises"
   ]
  },
  {
   "cell_type": "code",
   "execution_count": 24,
   "metadata": {},
   "outputs": [
    {
     "name": "stdout",
     "output_type": "stream",
     "text": [
      "100%|██████████| 100/100 [01:45<00:00,  1.05s/trial, best loss: 0.32961283571677713]\n",
      "{'max_depth': 32, 'n_estimators': 159}\n"
     ]
    }
   ],
   "source": [
    "params_space = {\n",
    "    'max_depth': hyperopt.hp.randint('max_depth', 50),\n",
    "    'n_estimators': hyperopt.hp.randint('n_estimators', 200),\n",
    "}\n",
    "\n",
    "trials = hyperopt.Trials()\n",
    "\n",
    "best = hyperopt.fmin(\n",
    "    hyperopt_objective,\n",
    "    space=params_space,\n",
    "    algo=hyperopt.tpe.suggest,\n",
    "    max_evals=100,\n",
    "    trials=trials,\n",
    "    rstate=np.random.default_rng(123)\n",
    ")\n",
    "\n",
    "print(best)"
   ]
  },
  {
   "cell_type": "code",
   "execution_count": 25,
   "metadata": {},
   "outputs": [
    {
     "name": "stdout",
     "output_type": "stream",
     "text": [
      "              precision    recall  f1-score   support\n",
      "\n",
      "           0       0.88      0.93      0.90     12435\n",
      "           1       0.72      0.59      0.65      3846\n",
      "\n",
      "    accuracy                           0.85     16281\n",
      "   macro avg       0.80      0.76      0.77     16281\n",
      "weighted avg       0.84      0.85      0.84     16281\n",
      "\n"
     ]
    }
   ],
   "source": [
    "model = ExtraTreesClassifier(\n",
    "        max_depth=best['max_depth']+1,\n",
    "        n_estimators=best['n_estimators']+1,\n",
    "        random_state=123\n",
    "    )\n",
    "    \n",
    "model.fit(X_train_encoding, y_train)\n",
    "y_pred = model.predict(X_test_encoding)\n",
    "print(classification_report(y_test, y_pred))"
   ]
  },
  {
   "cell_type": "code",
   "execution_count": 32,
   "metadata": {},
   "outputs": [],
   "source": [
    "def convert_to_df(trials):\n",
    "    out = []\n",
    "    for trial in trials:\n",
    "        temp = dict()\n",
    "        temp['max_depth'] = trial['misc']['vals']['max_depth'][0] + 1\n",
    "        temp['n_estimators'] = trial['misc']['vals']['n_estimators'][0] + 1\n",
    "        temp['loss'] = trial['result']['loss']\n",
    "        temp['f1'] = 1 - trial['result']['loss']\n",
    "        out.append(temp)\n",
    "    df =  pd.DataFrame(out)\n",
    "    df = df.sort_values(by=['f1'], ascending=False)\n",
    "    return df.head(20)"
   ]
  },
  {
   "cell_type": "code",
   "execution_count": 33,
   "metadata": {},
   "outputs": [
    {
     "data": {
      "text/html": [
       "<div>\n",
       "<style scoped>\n",
       "    .dataframe tbody tr th:only-of-type {\n",
       "        vertical-align: middle;\n",
       "    }\n",
       "\n",
       "    .dataframe tbody tr th {\n",
       "        vertical-align: top;\n",
       "    }\n",
       "\n",
       "    .dataframe thead th {\n",
       "        text-align: right;\n",
       "    }\n",
       "</style>\n",
       "<table border=\"1\" class=\"dataframe\">\n",
       "  <thead>\n",
       "    <tr style=\"text-align: right;\">\n",
       "      <th></th>\n",
       "      <th>max_depth</th>\n",
       "      <th>n_estimators</th>\n",
       "      <th>loss</th>\n",
       "      <th>f1</th>\n",
       "    </tr>\n",
       "  </thead>\n",
       "  <tbody>\n",
       "    <tr>\n",
       "      <th>64</th>\n",
       "      <td>33</td>\n",
       "      <td>160</td>\n",
       "      <td>0.329613</td>\n",
       "      <td>0.670387</td>\n",
       "    </tr>\n",
       "    <tr>\n",
       "      <th>62</th>\n",
       "      <td>33</td>\n",
       "      <td>103</td>\n",
       "      <td>0.330564</td>\n",
       "      <td>0.669436</td>\n",
       "    </tr>\n",
       "    <tr>\n",
       "      <th>1</th>\n",
       "      <td>25</td>\n",
       "      <td>138</td>\n",
       "      <td>0.332144</td>\n",
       "      <td>0.667856</td>\n",
       "    </tr>\n",
       "    <tr>\n",
       "      <th>63</th>\n",
       "      <td>49</td>\n",
       "      <td>117</td>\n",
       "      <td>0.332200</td>\n",
       "      <td>0.667800</td>\n",
       "    </tr>\n",
       "    <tr>\n",
       "      <th>94</th>\n",
       "      <td>26</td>\n",
       "      <td>37</td>\n",
       "      <td>0.332387</td>\n",
       "      <td>0.667613</td>\n",
       "    </tr>\n",
       "    <tr>\n",
       "      <th>18</th>\n",
       "      <td>34</td>\n",
       "      <td>169</td>\n",
       "      <td>0.332408</td>\n",
       "      <td>0.667592</td>\n",
       "    </tr>\n",
       "    <tr>\n",
       "      <th>53</th>\n",
       "      <td>35</td>\n",
       "      <td>197</td>\n",
       "      <td>0.332413</td>\n",
       "      <td>0.667587</td>\n",
       "    </tr>\n",
       "    <tr>\n",
       "      <th>59</th>\n",
       "      <td>32</td>\n",
       "      <td>150</td>\n",
       "      <td>0.332632</td>\n",
       "      <td>0.667368</td>\n",
       "    </tr>\n",
       "    <tr>\n",
       "      <th>67</th>\n",
       "      <td>33</td>\n",
       "      <td>103</td>\n",
       "      <td>0.332642</td>\n",
       "      <td>0.667358</td>\n",
       "    </tr>\n",
       "    <tr>\n",
       "      <th>26</th>\n",
       "      <td>34</td>\n",
       "      <td>178</td>\n",
       "      <td>0.332871</td>\n",
       "      <td>0.667129</td>\n",
       "    </tr>\n",
       "    <tr>\n",
       "      <th>69</th>\n",
       "      <td>36</td>\n",
       "      <td>160</td>\n",
       "      <td>0.332875</td>\n",
       "      <td>0.667125</td>\n",
       "    </tr>\n",
       "    <tr>\n",
       "      <th>27</th>\n",
       "      <td>28</td>\n",
       "      <td>19</td>\n",
       "      <td>0.333568</td>\n",
       "      <td>0.666432</td>\n",
       "    </tr>\n",
       "    <tr>\n",
       "      <th>72</th>\n",
       "      <td>29</td>\n",
       "      <td>26</td>\n",
       "      <td>0.334746</td>\n",
       "      <td>0.665254</td>\n",
       "    </tr>\n",
       "    <tr>\n",
       "      <th>12</th>\n",
       "      <td>36</td>\n",
       "      <td>96</td>\n",
       "      <td>0.335404</td>\n",
       "      <td>0.664596</td>\n",
       "    </tr>\n",
       "    <tr>\n",
       "      <th>84</th>\n",
       "      <td>27</td>\n",
       "      <td>77</td>\n",
       "      <td>0.335694</td>\n",
       "      <td>0.664306</td>\n",
       "    </tr>\n",
       "    <tr>\n",
       "      <th>23</th>\n",
       "      <td>25</td>\n",
       "      <td>180</td>\n",
       "      <td>0.335722</td>\n",
       "      <td>0.664278</td>\n",
       "    </tr>\n",
       "    <tr>\n",
       "      <th>54</th>\n",
       "      <td>30</td>\n",
       "      <td>62</td>\n",
       "      <td>0.335897</td>\n",
       "      <td>0.664103</td>\n",
       "    </tr>\n",
       "    <tr>\n",
       "      <th>71</th>\n",
       "      <td>24</td>\n",
       "      <td>127</td>\n",
       "      <td>0.336941</td>\n",
       "      <td>0.663059</td>\n",
       "    </tr>\n",
       "    <tr>\n",
       "      <th>66</th>\n",
       "      <td>33</td>\n",
       "      <td>50</td>\n",
       "      <td>0.337005</td>\n",
       "      <td>0.662995</td>\n",
       "    </tr>\n",
       "    <tr>\n",
       "      <th>28</th>\n",
       "      <td>42</td>\n",
       "      <td>61</td>\n",
       "      <td>0.337209</td>\n",
       "      <td>0.662791</td>\n",
       "    </tr>\n",
       "  </tbody>\n",
       "</table>\n",
       "</div>"
      ],
      "text/plain": [
       "    max_depth  n_estimators      loss        f1\n",
       "64         33           160  0.329613  0.670387\n",
       "62         33           103  0.330564  0.669436\n",
       "1          25           138  0.332144  0.667856\n",
       "63         49           117  0.332200  0.667800\n",
       "94         26            37  0.332387  0.667613\n",
       "18         34           169  0.332408  0.667592\n",
       "53         35           197  0.332413  0.667587\n",
       "59         32           150  0.332632  0.667368\n",
       "67         33           103  0.332642  0.667358\n",
       "26         34           178  0.332871  0.667129\n",
       "69         36           160  0.332875  0.667125\n",
       "27         28            19  0.333568  0.666432\n",
       "72         29            26  0.334746  0.665254\n",
       "12         36            96  0.335404  0.664596\n",
       "84         27            77  0.335694  0.664306\n",
       "23         25           180  0.335722  0.664278\n",
       "54         30            62  0.335897  0.664103\n",
       "71         24           127  0.336941  0.663059\n",
       "66         33            50  0.337005  0.662995\n",
       "28         42            61  0.337209  0.662791"
      ]
     },
     "execution_count": 33,
     "metadata": {},
     "output_type": "execute_result"
    }
   ],
   "source": [
    "convert_to_df(trials.trials)"
   ]
  },
  {
   "attachments": {},
   "cell_type": "markdown",
   "metadata": {},
   "source": [
    "## 4. Save and load model"
   ]
  },
  {
   "cell_type": "code",
   "execution_count": 38,
   "metadata": {},
   "outputs": [],
   "source": [
    "import pickle\n",
    "filename = 'extraTrees.sav'\n",
    "pickle.dump(model, open(filename, 'wb'))"
   ]
  },
  {
   "cell_type": "code",
   "execution_count": 39,
   "metadata": {},
   "outputs": [],
   "source": [
    "loaded_model = pickle.load(open(filename, 'rb'))"
   ]
  },
  {
   "cell_type": "code",
   "execution_count": 40,
   "metadata": {},
   "outputs": [
    {
     "name": "stdout",
     "output_type": "stream",
     "text": [
      "              precision    recall  f1-score   support\n",
      "\n",
      "           0       0.88      0.93      0.90     12435\n",
      "           1       0.72      0.59      0.65      3846\n",
      "\n",
      "    accuracy                           0.85     16281\n",
      "   macro avg       0.80      0.76      0.77     16281\n",
      "weighted avg       0.84      0.85      0.84     16281\n",
      "\n"
     ]
    }
   ],
   "source": [
    "y_pred = loaded_model.predict(X_test_encoding)\n",
    "print(classification_report(y_test, y_pred))"
   ]
  },
  {
   "attachments": {},
   "cell_type": "markdown",
   "metadata": {},
   "source": [
    "## 5. Exmplained"
   ]
  },
  {
   "cell_type": "code",
   "execution_count": 41,
   "metadata": {},
   "outputs": [],
   "source": [
    "feature_importance_normalized = np.std([tree.feature_importances_ for tree in \n",
    "                                        loaded_model.estimators_],\n",
    "                                        axis = 0)"
   ]
  },
  {
   "cell_type": "code",
   "execution_count": 58,
   "metadata": {},
   "outputs": [],
   "source": [
    "feature_importance = list(zip(feature_importance_normalized.tolist(),FEATURES))"
   ]
  },
  {
   "cell_type": "code",
   "execution_count": 70,
   "metadata": {},
   "outputs": [],
   "source": [
    "feature_importance=sorted(feature_importance, key=lambda x:x[0], reverse= True)\n",
    "importances, features = zip(*feature_importance)"
   ]
  },
  {
   "cell_type": "code",
   "execution_count": 71,
   "metadata": {},
   "outputs": [],
   "source": [
    "import matplotlib.pyplot as plt"
   ]
  },
  {
   "cell_type": "code",
   "execution_count": 73,
   "metadata": {},
   "outputs": [
    {
     "data": {
      "image/png": "[encoded data removed]",
      "text/plain": [
       "<Figure size 640x480 with 1 Axes>"
      ]
     },
     "metadata": {},
     "output_type": "display_data"
    }
   ],
   "source": [
    "plt.bar(features, importances, color ='maroon',width = 0.4)\n",
    "plt.xticks(rotation = 90)\n",
    "plt.show()"
   ]
  },
  {
   "cell_type": "code",
   "execution_count": null,
   "metadata": {},
   "outputs": [],
   "source": []
  }
 ],
 "metadata": {
  "kernelspec": {
   "display_name": "ndt98",
   "language": "python",
   "name": "python3"
  },
  "language_info": {
   "codemirror_mode": {
    "name": "ipython",
    "version": 3
   },
   "file_extension": ".py",
   "mimetype": "text/x-python",
   "name": "python",
   "nbconvert_exporter": "python",
   "pygments_lexer": "ipython3",
   "version": "3.8.10"
  },
  "orig_nbformat": 4,
  "vscode": {
   "interpreter": {
    "hash": "d9527af22cb6c08264d8618fd63c59f3bb6de63220d210e4091e844c258321a9"
   }
  }
 },
 "nbformat": 4,
 "nbformat_minor": 2
}

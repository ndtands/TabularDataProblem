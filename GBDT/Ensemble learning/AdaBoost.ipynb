{
 "cells": [
  {
   "attachments": {},
   "cell_type": "markdown",
   "metadata": {},
   "source": [
    "# 1. Data preprocessing"
   ]
  },
  {
   "cell_type": "code",
   "execution_count": 1,
   "metadata": {},
   "outputs": [],
   "source": [
    "import pandas as pd\n",
    "import json"
   ]
  },
  {
   "cell_type": "code",
   "execution_count": 2,
   "metadata": {},
   "outputs": [],
   "source": [
    "ENC = json.loads(open('/media/Z/NDT/Transformer_Tabular/GBDT/Ensemble learning/encoding.json').read())"
   ]
  },
  {
   "cell_type": "code",
   "execution_count": 3,
   "metadata": {},
   "outputs": [],
   "source": [
    "df_train = pd.read_csv('/media/Z/NDT/Transformer_Tabular/dataset/train.csv')\n",
    "df_test = pd.read_csv('/media/Z/NDT/Transformer_Tabular/dataset/test.csv')\n",
    "df_val = pd.read_csv('/media/Z/NDT/Transformer_Tabular/dataset/val.csv')"
   ]
  },
  {
   "cell_type": "code",
   "execution_count": 4,
   "metadata": {},
   "outputs": [],
   "source": [
    "CATEGORY_FEATURES = df_train.columns.difference(df_train.select_dtypes('float').columns).tolist()\n",
    "NUMBER_FEATURES = list(set(df_train.columns) - set(CATEGORY_FEATURES))\n",
    "CATEGORY_FEATURES.remove('income_bracket')"
   ]
  },
  {
   "cell_type": "code",
   "execution_count": 5,
   "metadata": {},
   "outputs": [],
   "source": [
    "def ordinal_encoding(df: pd.DataFrame, category_features: list, encoding: dict) -> pd.DataFrame:\n",
    "    df_ = df.copy()\n",
    "    for c in CATEGORY_FEATURES:\n",
    "        df_[c] = df_[c].map(encoding[c])\n",
    "    return df_\n",
    "        "
   ]
  },
  {
   "cell_type": "code",
   "execution_count": 6,
   "metadata": {},
   "outputs": [],
   "source": [
    "X_train = df_train.drop('income_bracket', axis=1)\n",
    "y_train = df_train.income_bracket\n",
    "X_val = df_val.drop('income_bracket', axis=1)\n",
    "y_val = df_val.income_bracket\n",
    "X_test = df_test.drop('income_bracket', axis=1)\n",
    "y_test = df_test.income_bracket"
   ]
  },
  {
   "cell_type": "code",
   "execution_count": 7,
   "metadata": {},
   "outputs": [],
   "source": [
    "FEATURES = X_train.columns.tolist()"
   ]
  },
  {
   "cell_type": "code",
   "execution_count": 8,
   "metadata": {},
   "outputs": [],
   "source": [
    "X_train_encoding = ordinal_encoding(X_train, CATEGORY_FEATURES, ENC)\n",
    "X_val_encoding = ordinal_encoding(X_val, CATEGORY_FEATURES, ENC)\n",
    "X_test_encoding = ordinal_encoding(X_test, CATEGORY_FEATURES, ENC)"
   ]
  },
  {
   "attachments": {},
   "cell_type": "markdown",
   "metadata": {},
   "source": [
    "# 2. Modeling"
   ]
  },
  {
   "cell_type": "code",
   "execution_count": 9,
   "metadata": {},
   "outputs": [],
   "source": [
    "from sklearn.metrics import classification_report\n",
    "from sklearn.metrics import accuracy_score\n",
    "from sklearn.metrics import confusion_matrix\n",
    "from sklearn.metrics import f1_score"
   ]
  },
  {
   "cell_type": "code",
   "execution_count": 10,
   "metadata": {},
   "outputs": [],
   "source": [
    "from sklearn.ensemble import AdaBoostClassifier\n",
    "Model = AdaBoostClassifier()"
   ]
  },
  {
   "cell_type": "code",
   "execution_count": 11,
   "metadata": {},
   "outputs": [
    {
     "name": "stdout",
     "output_type": "stream",
     "text": [
      "              precision    recall  f1-score   support\n",
      "\n",
      "           0       0.88      0.94      0.91     12435\n",
      "           1       0.75      0.59      0.66      3846\n",
      "\n",
      "    accuracy                           0.86     16281\n",
      "   macro avg       0.82      0.77      0.79     16281\n",
      "weighted avg       0.85      0.86      0.85     16281\n",
      "\n"
     ]
    }
   ],
   "source": [
    "Model.fit(X_train_encoding, y_train)\n",
    "y_pred = Model.predict(X_test_encoding)\n",
    "print(classification_report(y_test, y_pred))"
   ]
  },
  {
   "attachments": {},
   "cell_type": "markdown",
   "metadata": {},
   "source": [
    "## 3. Tuning Model"
   ]
  },
  {
   "cell_type": "code",
   "execution_count": 13,
   "metadata": {},
   "outputs": [],
   "source": [
    "import hyperopt\n",
    "import numpy as np\n",
    "\n",
    "def hyperopt_objective(params):\n",
    "    model = AdaBoostClassifier(\n",
    "        learning_rate=params['learning_rate'],\n",
    "        n_estimators=params['n_estimators'] + 1, # condition >= 1\n",
    "    )\n",
    "    \n",
    "    model.fit(X_train_encoding, y_train)\n",
    "    y_pred = model.predict(X_val_encoding)\n",
    "    f1 = f1_score(y_val, y_pred)\n",
    "    return 1 - f1  # as hyperopt minimises"
   ]
  },
  {
   "cell_type": "code",
   "execution_count": 14,
   "metadata": {},
   "outputs": [
    {
     "name": "stdout",
     "output_type": "stream",
     "text": [
      "100%|██████████| 100/100 [01:54<00:00,  1.14s/trial, best loss: 0.33285560730920827]\n",
      "{'learning_rate': 0.47970631969374605, 'n_estimators': 168}\n"
     ]
    }
   ],
   "source": [
    "params_space = {\n",
    "    'learning_rate': hyperopt.hp.uniform('learning_rate', 1e-3, 5e-1),\n",
    "    'n_estimators': hyperopt.hp.randint('n_estimators', 200),\n",
    "}\n",
    "\n",
    "trials = hyperopt.Trials()\n",
    "\n",
    "best = hyperopt.fmin(\n",
    "    hyperopt_objective,\n",
    "    space=params_space,\n",
    "    algo=hyperopt.tpe.suggest,\n",
    "    max_evals=100,\n",
    "    trials=trials,\n",
    "    rstate=np.random.default_rng(123)\n",
    ")\n",
    "\n",
    "print(best)"
   ]
  },
  {
   "cell_type": "code",
   "execution_count": 15,
   "metadata": {},
   "outputs": [
    {
     "name": "stdout",
     "output_type": "stream",
     "text": [
      "              precision    recall  f1-score   support\n",
      "\n",
      "           0       0.88      0.95      0.91     12435\n",
      "           1       0.77      0.59      0.67      3846\n",
      "\n",
      "    accuracy                           0.86     16281\n",
      "   macro avg       0.83      0.77      0.79     16281\n",
      "weighted avg       0.86      0.86      0.85     16281\n",
      "\n"
     ]
    }
   ],
   "source": [
    "model = AdaBoostClassifier(\n",
    "        learning_rate=best['learning_rate'],\n",
    "        n_estimators=best['n_estimators']+1,\n",
    "        random_state=123\n",
    "    )\n",
    "    \n",
    "model.fit(X_train_encoding, y_train)\n",
    "y_pred = model.predict(X_test_encoding)\n",
    "print(classification_report(y_test, y_pred))"
   ]
  },
  {
   "cell_type": "code",
   "execution_count": 16,
   "metadata": {},
   "outputs": [],
   "source": [
    "def convert_to_df(trials):\n",
    "    out = []\n",
    "    for trial in trials:\n",
    "        temp = dict()\n",
    "        temp['learning_rate'] = trial['misc']['vals']['learning_rate'][0]\n",
    "        temp['n_estimators'] = trial['misc']['vals']['n_estimators'][0] + 1\n",
    "        temp['loss'] = trial['result']['loss']\n",
    "        temp['f1'] = 1 - trial['result']['loss']\n",
    "        out.append(temp)\n",
    "    df =  pd.DataFrame(out)\n",
    "    df = df.sort_values(by=['f1'], ascending=False)\n",
    "    return df.head(20)"
   ]
  },
  {
   "cell_type": "code",
   "execution_count": 17,
   "metadata": {},
   "outputs": [
    {
     "data": {
      "text/html": [
       "<div>\n",
       "<style scoped>\n",
       "    .dataframe tbody tr th:only-of-type {\n",
       "        vertical-align: middle;\n",
       "    }\n",
       "\n",
       "    .dataframe tbody tr th {\n",
       "        vertical-align: top;\n",
       "    }\n",
       "\n",
       "    .dataframe thead th {\n",
       "        text-align: right;\n",
       "    }\n",
       "</style>\n",
       "<table border=\"1\" class=\"dataframe\">\n",
       "  <thead>\n",
       "    <tr style=\"text-align: right;\">\n",
       "      <th></th>\n",
       "      <th>learning_rate</th>\n",
       "      <th>n_estimators</th>\n",
       "      <th>loss</th>\n",
       "      <th>f1</th>\n",
       "    </tr>\n",
       "  </thead>\n",
       "  <tbody>\n",
       "    <tr>\n",
       "      <th>20</th>\n",
       "      <td>0.479706</td>\n",
       "      <td>169</td>\n",
       "      <td>0.332856</td>\n",
       "      <td>0.667144</td>\n",
       "    </tr>\n",
       "    <tr>\n",
       "      <th>69</th>\n",
       "      <td>0.451818</td>\n",
       "      <td>192</td>\n",
       "      <td>0.333093</td>\n",
       "      <td>0.666907</td>\n",
       "    </tr>\n",
       "    <tr>\n",
       "      <th>18</th>\n",
       "      <td>0.410722</td>\n",
       "      <td>169</td>\n",
       "      <td>0.334773</td>\n",
       "      <td>0.665227</td>\n",
       "    </tr>\n",
       "    <tr>\n",
       "      <th>68</th>\n",
       "      <td>0.441285</td>\n",
       "      <td>196</td>\n",
       "      <td>0.335740</td>\n",
       "      <td>0.664260</td>\n",
       "    </tr>\n",
       "    <tr>\n",
       "      <th>26</th>\n",
       "      <td>0.474751</td>\n",
       "      <td>178</td>\n",
       "      <td>0.336210</td>\n",
       "      <td>0.663790</td>\n",
       "    </tr>\n",
       "    <tr>\n",
       "      <th>96</th>\n",
       "      <td>0.488438</td>\n",
       "      <td>105</td>\n",
       "      <td>0.336216</td>\n",
       "      <td>0.663784</td>\n",
       "    </tr>\n",
       "    <tr>\n",
       "      <th>83</th>\n",
       "      <td>0.483970</td>\n",
       "      <td>168</td>\n",
       "      <td>0.336925</td>\n",
       "      <td>0.663075</td>\n",
       "    </tr>\n",
       "    <tr>\n",
       "      <th>29</th>\n",
       "      <td>0.469435</td>\n",
       "      <td>164</td>\n",
       "      <td>0.336929</td>\n",
       "      <td>0.663071</td>\n",
       "    </tr>\n",
       "    <tr>\n",
       "      <th>86</th>\n",
       "      <td>0.468629</td>\n",
       "      <td>146</td>\n",
       "      <td>0.337406</td>\n",
       "      <td>0.662594</td>\n",
       "    </tr>\n",
       "    <tr>\n",
       "      <th>53</th>\n",
       "      <td>0.430339</td>\n",
       "      <td>197</td>\n",
       "      <td>0.337414</td>\n",
       "      <td>0.662586</td>\n",
       "    </tr>\n",
       "    <tr>\n",
       "      <th>23</th>\n",
       "      <td>0.446282</td>\n",
       "      <td>169</td>\n",
       "      <td>0.337432</td>\n",
       "      <td>0.662568</td>\n",
       "    </tr>\n",
       "    <tr>\n",
       "      <th>21</th>\n",
       "      <td>0.495502</td>\n",
       "      <td>137</td>\n",
       "      <td>0.338373</td>\n",
       "      <td>0.661627</td>\n",
       "    </tr>\n",
       "    <tr>\n",
       "      <th>50</th>\n",
       "      <td>0.496593</td>\n",
       "      <td>122</td>\n",
       "      <td>0.338611</td>\n",
       "      <td>0.661389</td>\n",
       "    </tr>\n",
       "    <tr>\n",
       "      <th>22</th>\n",
       "      <td>0.431361</td>\n",
       "      <td>169</td>\n",
       "      <td>0.339137</td>\n",
       "      <td>0.660863</td>\n",
       "    </tr>\n",
       "    <tr>\n",
       "      <th>89</th>\n",
       "      <td>0.412828</td>\n",
       "      <td>151</td>\n",
       "      <td>0.340778</td>\n",
       "      <td>0.659222</td>\n",
       "    </tr>\n",
       "    <tr>\n",
       "      <th>73</th>\n",
       "      <td>0.423140</td>\n",
       "      <td>169</td>\n",
       "      <td>0.340786</td>\n",
       "      <td>0.659214</td>\n",
       "    </tr>\n",
       "    <tr>\n",
       "      <th>79</th>\n",
       "      <td>0.396663</td>\n",
       "      <td>192</td>\n",
       "      <td>0.341040</td>\n",
       "      <td>0.658960</td>\n",
       "    </tr>\n",
       "    <tr>\n",
       "      <th>2</th>\n",
       "      <td>0.442762</td>\n",
       "      <td>145</td>\n",
       "      <td>0.342764</td>\n",
       "      <td>0.657236</td>\n",
       "    </tr>\n",
       "    <tr>\n",
       "      <th>71</th>\n",
       "      <td>0.462179</td>\n",
       "      <td>127</td>\n",
       "      <td>0.342992</td>\n",
       "      <td>0.657008</td>\n",
       "    </tr>\n",
       "    <tr>\n",
       "      <th>38</th>\n",
       "      <td>0.419120</td>\n",
       "      <td>158</td>\n",
       "      <td>0.343208</td>\n",
       "      <td>0.656792</td>\n",
       "    </tr>\n",
       "  </tbody>\n",
       "</table>\n",
       "</div>"
      ],
      "text/plain": [
       "    learning_rate  n_estimators      loss        f1\n",
       "20       0.479706           169  0.332856  0.667144\n",
       "69       0.451818           192  0.333093  0.666907\n",
       "18       0.410722           169  0.334773  0.665227\n",
       "68       0.441285           196  0.335740  0.664260\n",
       "26       0.474751           178  0.336210  0.663790\n",
       "96       0.488438           105  0.336216  0.663784\n",
       "83       0.483970           168  0.336925  0.663075\n",
       "29       0.469435           164  0.336929  0.663071\n",
       "86       0.468629           146  0.337406  0.662594\n",
       "53       0.430339           197  0.337414  0.662586\n",
       "23       0.446282           169  0.337432  0.662568\n",
       "21       0.495502           137  0.338373  0.661627\n",
       "50       0.496593           122  0.338611  0.661389\n",
       "22       0.431361           169  0.339137  0.660863\n",
       "89       0.412828           151  0.340778  0.659222\n",
       "73       0.423140           169  0.340786  0.659214\n",
       "79       0.396663           192  0.341040  0.658960\n",
       "2        0.442762           145  0.342764  0.657236\n",
       "71       0.462179           127  0.342992  0.657008\n",
       "38       0.419120           158  0.343208  0.656792"
      ]
     },
     "execution_count": 17,
     "metadata": {},
     "output_type": "execute_result"
    }
   ],
   "source": [
    "convert_to_df(trials.trials)"
   ]
  },
  {
   "attachments": {},
   "cell_type": "markdown",
   "metadata": {},
   "source": [
    "## 4. Save and load model"
   ]
  },
  {
   "cell_type": "code",
   "execution_count": 18,
   "metadata": {},
   "outputs": [],
   "source": [
    "import pickle\n",
    "filename = 'Adaboost.sav'\n",
    "pickle.dump(model, open(filename, 'wb'))"
   ]
  },
  {
   "cell_type": "code",
   "execution_count": 19,
   "metadata": {},
   "outputs": [],
   "source": [
    "loaded_model = pickle.load(open(filename, 'rb'))"
   ]
  },
  {
   "cell_type": "code",
   "execution_count": 20,
   "metadata": {},
   "outputs": [
    {
     "name": "stdout",
     "output_type": "stream",
     "text": [
      "              precision    recall  f1-score   support\n",
      "\n",
      "           0       0.88      0.95      0.91     12435\n",
      "           1       0.77      0.59      0.67      3846\n",
      "\n",
      "    accuracy                           0.86     16281\n",
      "   macro avg       0.83      0.77      0.79     16281\n",
      "weighted avg       0.86      0.86      0.85     16281\n",
      "\n"
     ]
    }
   ],
   "source": [
    "y_pred = loaded_model.predict(X_test_encoding)\n",
    "print(classification_report(y_test, y_pred))"
   ]
  },
  {
   "attachments": {},
   "cell_type": "markdown",
   "metadata": {},
   "source": [
    "## 5. Explained"
   ]
  },
  {
   "cell_type": "code",
   "execution_count": 21,
   "metadata": {},
   "outputs": [],
   "source": [
    "feature_importance_normalized = np.std([tree.feature_importances_ for tree in \n",
    "                                        loaded_model.estimators_],\n",
    "                                        axis = 0)"
   ]
  },
  {
   "cell_type": "code",
   "execution_count": 22,
   "metadata": {},
   "outputs": [],
   "source": [
    "feature_importance = list(zip(feature_importance_normalized.tolist(),FEATURES))"
   ]
  },
  {
   "cell_type": "code",
   "execution_count": 23,
   "metadata": {},
   "outputs": [],
   "source": [
    "feature_importance=sorted(feature_importance, key=lambda x:x[0], reverse= True)\n",
    "importances, features = zip(*feature_importance)"
   ]
  },
  {
   "cell_type": "code",
   "execution_count": 24,
   "metadata": {},
   "outputs": [],
   "source": [
    "import matplotlib.pyplot as plt"
   ]
  },
  {
   "cell_type": "code",
   "execution_count": 25,
   "metadata": {},
   "outputs": [
    {
     "data": {
      "image/png": "[encoded data removed]",
      "text/plain": [
       "<Figure size 640x480 with 1 Axes>"
      ]
     },
     "metadata": {},
     "output_type": "display_data"
    }
   ],
   "source": [
    "plt.bar(features, importances, color ='maroon',width = 0.4)\n",
    "plt.xticks(rotation = 90)\n",
    "plt.show()"
   ]
  },
  {
   "cell_type": "code",
   "execution_count": null,
   "metadata": {},
   "outputs": [],
   "source": []
  }
 ],
 "metadata": {
  "kernelspec": {
   "display_name": "ndt98",
   "language": "python",
   "name": "python3"
  },
  "language_info": {
   "codemirror_mode": {
    "name": "ipython",
    "version": 3
   },
   "file_extension": ".py",
   "mimetype": "text/x-python",
   "name": "python",
   "nbconvert_exporter": "python",
   "pygments_lexer": "ipython3",
   "version": "3.8.10 (default, Nov 14 2022, 12:59:47) \n[GCC 9.4.0]"
  },
  "orig_nbformat": 4,
  "vscode": {
   "interpreter": {
    "hash": "d9527af22cb6c08264d8618fd63c59f3bb6de63220d210e4091e844c258321a9"
   }
  }
 },
 "nbformat": 4,
 "nbformat_minor": 2
}
